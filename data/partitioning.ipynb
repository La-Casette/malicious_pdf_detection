{
 "cells": [
  {
   "cell_type": "markdown",
   "metadata": {},
   "source": [
    "# Partitioning"
   ]
  },
  {
   "cell_type": "code",
   "execution_count": 113,
   "metadata": {},
   "outputs": [],
   "source": [
    "import numpy as np\n",
    "import pandas as pd\n",
    "from sklearn.model_selection import train_test_split"
   ]
  },
  {
   "cell_type": "code",
   "execution_count": 114,
   "metadata": {},
   "outputs": [],
   "source": [
    "clean_9000 = 'result_clean_pdf_9000_files.csv'\n",
    "clean_109 = 'result_clean_pdf_109_embed_video.csv'\n",
    "malw_173 = 'result_malware_pdf_cve_sorted_173_files.csv'\n",
    "malw_10982 = 'result_malware_pdf_pre_04-2011_10982_files.csv'\n",
    "df_clean_9000 = pd.read_csv(clean_9000, sep=',')\n",
    "df_clean_109 = pd.read_csv(clean_109, sep=',')\n",
    "df_malw_173 = pd.read_csv(malw_173, sep=',')\n",
    "df_malw_10982 = pd.read_csv(malw_10982, sep=',')"
   ]
  },
  {
   "cell_type": "code",
   "execution_count": 147,
   "metadata": {},
   "outputs": [],
   "source": [
    "df_clean = pd.concat([df_clean_9000, df_clean_109], axis=0, ignore_index=True)\n",
    "df_malw = pd.concat([df_malw_10982, df_malw_173], axis=0, ignore_index=True)\n",
    "\n",
    "df_clean[\"malware\"] = np.zeros(df_clean.shape[0], dtype='bool')\n",
    "df_malw[\"malware\"] = np.ones(df_malw.shape[0], dtype='bool')"
   ]
  },
  {
   "cell_type": "code",
   "execution_count": 148,
   "metadata": {},
   "outputs": [],
   "source": [
    "df_tot = pd.concat([df_clean, df_malw], axis=0, ignore_index=True)\n",
    "\n",
    "df_train, df_test = train_test_split(df_tot, test_size=0.1)\n",
    "df_train, df_val = train_test_split(df_train, test_size=0.1)\n",
    "\n",
    "df_train.to_csv(\"df_train.csv\", index = False)\n",
    "df_val.to_csv(\"df_val.csv\", index = False)\n",
    "df_test.to_csv(\"df_test.csv\", index = False)"
   ]
  },
  {
   "cell_type": "code",
   "execution_count": 149,
   "metadata": {},
   "outputs": [],
   "source": [
    "label = 'malware'\n",
    "#We copy the output label\n",
    "y_train=df_train[label]\n",
    "#We remove the output label from X\n",
    "X_train=df_train.drop([label],axis=1)\n",
    "\n",
    "#process is repeated for test and validation\n",
    "y_test=df_test[label]\n",
    "X_test=df_test.drop([label],axis=1)\n",
    "\n",
    "y_val=df_val[label]\n",
    "X_val=df_val.drop([label],axis=1)\n",
    "\n",
    "#We call prepare_data\n",
    "#X_train = np.array(X_train)\n",
    "#X_val = np.array(X_val)\n",
    "#X_test = np.array(X_test)\n",
    "#y_train = np.array(y_train)\n",
    "#y_val = np.array(y_val)\n",
    "#y_test = np.array(y_test)"
   ]
  },
  {
   "cell_type": "code",
   "execution_count": 150,
   "metadata": {},
   "outputs": [
    {
     "data": {
      "text/plain": [
       "0.9965363681345868"
      ]
     },
     "execution_count": 150,
     "metadata": {},
     "output_type": "execute_result"
    }
   ],
   "source": [
    "from sklearn.neighbors import KNeighborsClassifier\n",
    "\n",
    "knn = KNeighborsClassifier(n_neighbors=1)\n",
    "knn.fit(X_train, y_train)\n",
    "y_hat = knn.predict(X_test)\n",
    "#print(y_hat.sum() / df_test.shape[0]==True)\n",
    "#for i in range(y_ha)\n",
    "pred = y_test == y_hat\n",
    "pred.sum() / len(y_test)"
   ]
  },
  {
   "cell_type": "code",
   "execution_count": null,
   "metadata": {},
   "outputs": [],
   "source": []
  }
 ],
 "metadata": {
  "kernelspec": {
   "display_name": "Python 3 (ipykernel)",
   "language": "python",
   "name": "python3"
  },
  "language_info": {
   "codemirror_mode": {
    "name": "ipython",
    "version": 3
   },
   "file_extension": ".py",
   "mimetype": "text/x-python",
   "name": "python",
   "nbconvert_exporter": "python",
   "pygments_lexer": "ipython3",
   "version": "3.8.13"
  },
  "vscode": {
   "interpreter": {
    "hash": "d97c278cc629c1c5be7dde8ca92fdbba5c29360d8f8314df257e0bc4e4b04dd5"
   }
  }
 },
 "nbformat": 4,
 "nbformat_minor": 4
}
