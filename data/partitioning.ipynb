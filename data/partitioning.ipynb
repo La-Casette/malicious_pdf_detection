{
 "cells": [
  {
   "cell_type": "markdown",
   "metadata": {},
   "source": [
    "# Partitioning"
   ]
  },
  {
   "cell_type": "code",
   "execution_count": 1,
   "metadata": {},
   "outputs": [],
   "source": [
    "import numpy as np\n",
    "import pandas as pd\n",
    "from sklearn.model_selection import train_test_split\n",
    "import seaborn as sns\n",
    "import matplotlib.pyplot as plt"
   ]
  },
  {
   "cell_type": "code",
   "execution_count": 2,
   "metadata": {},
   "outputs": [],
   "source": [
    "clean_9000 = 'result_clean_pdf_9000_files.csv'\n",
    "clean_109 = 'result_clean_pdf_109_embed_video.csv'\n",
    "malw_173 = 'result_malware_pdf_cve_sorted_173_files.csv'\n",
    "malw_10982 = 'result_malware_pdf_pre_04-2011_10982_files.csv'\n",
    "df_clean_9000 = pd.read_csv(clean_9000, sep=',')\n",
    "df_clean_109 = pd.read_csv(clean_109, sep=',')\n",
    "df_malw_173 = pd.read_csv(malw_173, sep=',')\n",
    "df_malw_10982 = pd.read_csv(malw_10982, sep=',')"
   ]
  },
  {
   "cell_type": "code",
   "execution_count": 3,
   "metadata": {},
   "outputs": [],
   "source": [
    "df_clean = pd.concat([df_clean_9000, df_clean_109], axis=0, ignore_index=True)\n",
    "df_malw = pd.concat([df_malw_10982, df_malw_173], axis=0, ignore_index=True)\n",
    "\n",
    "df_clean[\"malware\"] = np.zeros(df_clean.shape[0], dtype='bool')\n",
    "df_malw[\"malware\"] = np.ones(df_malw.shape[0], dtype='bool')"
   ]
  },
  {
   "cell_type": "code",
   "execution_count": 4,
   "metadata": {},
   "outputs": [],
   "source": [
    "df_tot = pd.concat([df_clean, df_malw], axis=0, ignore_index=True)\n",
    "X_tot = df_tot.iloc[:,:-1]\n",
    "y_tot = df_tot.iloc[:,-1:]\n",
    "X_train, X_test, y_train, y_test= train_test_split(X_tot, y_tot,\n",
    "                                                    test_size= 0.2,\n",
    "                                                    shuffle= True, #shuffle the data to avoid bias\n",
    "                                                    stratify=df_tot['malware'],\n",
    "                                                    random_state= 0)\n",
    "np.save('X_train.npy', X_train)\n",
    "np.save('X_test.npy', X_test)\n",
    "np.save('y_train.npy', y_train.values.ravel())\n",
    "np.save('y_test.npy', y_test.values.ravel())\n",
    "np.save('X_tot.npy', X_tot)\n",
    "df_tot.to_pickle('df_tot.pandas')"
   ]
  },
  {
   "cell_type": "code",
   "execution_count": 36,
   "metadata": {},
   "outputs": [
    {
     "name": "stderr",
     "output_type": "stream",
     "text": [
      "/Users/mattiarosso/opt/anaconda3/envs/malis/lib/python3.8/site-packages/sklearn/neighbors/_classification.py:207: DataConversionWarning: A column-vector y was passed when a 1d array was expected. Please change the shape of y to (n_samples,), for example using ravel().\n",
      "  return self._fit(X, y)\n"
     ]
    },
    {
     "name": "stdout",
     "output_type": "stream",
     "text": [
      "Accuracy on testing: 99.529936%\n",
      "Accuracy on training: 99.690728%\n"
     ]
    }
   ],
   "source": [
    "df_cic = pd.read_csv('PDFMalware2022.csv', sep=',')\n",
    "df_cic.rename(columns={'Class':'malware'}, inplace=True)\n",
    "df_cic.loc[df_cic['malware'] == 'Malicious', 'malware'] = True\n",
    "df_cic.loc[df_cic['malware'] == 'Benign', 'malware'] = True\n",
    "df_cic = df_cic.drop(columns=['Fine name', 'header', 'text'])\n",
    "X_tot = df_tot.iloc[:,:-1]\n",
    "y_tot = df_tot.iloc[:,-1:]\n",
    "X_train, X_test, y_train, y_test= train_test_split(X_tot, y_tot,\n",
    "                                                    test_size= 0.2,\n",
    "                                                    shuffle= True, #shuffle the data to avoid bias\n",
    "                                                    stratify=df_tot['malware'],\n",
    "                                                    random_state= 0)\n",
    "from sklearn.neighbors import KNeighborsClassifier\n",
    "import sklearn.metrics as metrics\n",
    "knn_clf = KNeighborsClassifier(n_neighbors=3)\n",
    "knn_clf.fit(X_train, y_train)\n",
    "y_test_predicted = knn_clf.predict(X_test).reshape(-1,1)\n",
    "print('Accuracy on testing: %f%%' % (metrics.accuracy_score(y_test, y_test_predicted)*100))\n",
    "y_train_predicted = knn_clf.predict(X_train).reshape(-1,1)\n",
    "print('Accuracy on training: %f%%' % (metrics.accuracy_score(y_train, y_train_predicted)*100))"
   ]
  },
  {
   "cell_type": "code",
   "execution_count": 38,
   "metadata": {},
   "outputs": [
    {
     "data": {
      "text/html": [
       "<div>\n",
       "<style scoped>\n",
       "    .dataframe tbody tr th:only-of-type {\n",
       "        vertical-align: middle;\n",
       "    }\n",
       "\n",
       "    .dataframe tbody tr th {\n",
       "        vertical-align: top;\n",
       "    }\n",
       "\n",
       "    .dataframe thead th {\n",
       "        text-align: right;\n",
       "    }\n",
       "</style>\n",
       "<table border=\"1\" class=\"dataframe\">\n",
       "  <thead>\n",
       "    <tr style=\"text-align: right;\">\n",
       "      <th></th>\n",
       "      <th>malware</th>\n",
       "    </tr>\n",
       "  </thead>\n",
       "  <tbody>\n",
       "    <tr>\n",
       "      <th>17252</th>\n",
       "      <td>True</td>\n",
       "    </tr>\n",
       "    <tr>\n",
       "      <th>1052</th>\n",
       "      <td>False</td>\n",
       "    </tr>\n",
       "    <tr>\n",
       "      <th>13389</th>\n",
       "      <td>True</td>\n",
       "    </tr>\n",
       "    <tr>\n",
       "      <th>6090</th>\n",
       "      <td>False</td>\n",
       "    </tr>\n",
       "    <tr>\n",
       "      <th>9993</th>\n",
       "      <td>True</td>\n",
       "    </tr>\n",
       "    <tr>\n",
       "      <th>...</th>\n",
       "      <td>...</td>\n",
       "    </tr>\n",
       "    <tr>\n",
       "      <th>10953</th>\n",
       "      <td>True</td>\n",
       "    </tr>\n",
       "    <tr>\n",
       "      <th>5817</th>\n",
       "      <td>False</td>\n",
       "    </tr>\n",
       "    <tr>\n",
       "      <th>11897</th>\n",
       "      <td>True</td>\n",
       "    </tr>\n",
       "    <tr>\n",
       "      <th>10557</th>\n",
       "      <td>True</td>\n",
       "    </tr>\n",
       "    <tr>\n",
       "      <th>911</th>\n",
       "      <td>False</td>\n",
       "    </tr>\n",
       "  </tbody>\n",
       "</table>\n",
       "<p>16167 rows × 1 columns</p>\n",
       "</div>"
      ],
      "text/plain": [
       "       malware\n",
       "17252     True\n",
       "1052     False\n",
       "13389     True\n",
       "6090     False\n",
       "9993      True\n",
       "...        ...\n",
       "10953     True\n",
       "5817     False\n",
       "11897     True\n",
       "10557     True\n",
       "911      False\n",
       "\n",
       "[16167 rows x 1 columns]"
      ]
     },
     "execution_count": 38,
     "metadata": {},
     "output_type": "execute_result"
    }
   ],
   "source": [
    "y_train"
   ]
  },
  {
   "cell_type": "code",
   "execution_count": null,
   "metadata": {},
   "outputs": [],
   "source": []
  }
 ],
 "metadata": {
  "kernelspec": {
   "display_name": "Python 3 (ipykernel)",
   "language": "python",
   "name": "python3"
  },
  "language_info": {
   "codemirror_mode": {
    "name": "ipython",
    "version": 3
   },
   "file_extension": ".py",
   "mimetype": "text/x-python",
   "name": "python",
   "nbconvert_exporter": "python",
   "pygments_lexer": "ipython3",
   "version": "3.8.13"
  },
  "vscode": {
   "interpreter": {
    "hash": "d97c278cc629c1c5be7dde8ca92fdbba5c29360d8f8314df257e0bc4e4b04dd5"
   }
  }
 },
 "nbformat": 4,
 "nbformat_minor": 4
}
