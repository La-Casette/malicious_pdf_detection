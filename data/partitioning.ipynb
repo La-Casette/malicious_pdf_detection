{
 "cells": [
  {
   "cell_type": "markdown",
   "metadata": {},
   "source": [
    "# Partitioning"
   ]
  },
  {
   "cell_type": "markdown",
   "metadata": {},
   "source": [
    "We will use two different datasets:\n",
    "1. Contagio dataset: `Contagio` folder\n",
    "2. CIC Evasive PDF Malware 2022: `CIC` folder"
   ]
  },
  {
   "cell_type": "markdown",
   "metadata": {},
   "source": [
    "Load the libraries:"
   ]
  },
  {
   "cell_type": "code",
   "execution_count": 2,
   "metadata": {},
   "outputs": [],
   "source": [
    "import numpy as np\n",
    "import pandas as pd\n",
    "from sklearn.model_selection import train_test_split\n",
    "import seaborn as sns\n",
    "import matplotlib.pyplot as plt\n",
    "import re"
   ]
  },
  {
   "cell_type": "code",
   "execution_count": 3,
   "metadata": {},
   "outputs": [],
   "source": [
    "clean_9000 = './Contagio/result_clean_pdf_9000_files.csv'\n",
    "clean_109 = './Contagio/result_clean_pdf_109_embed_video.csv'\n",
    "malw_173 = './Contagio/result_malware_pdf_cve_sorted_173_files.csv'\n",
    "malw_10982 = './Contagio/result_malware_pdf_pre_04-2011_10982_files.csv'\n",
    "cic_dataset = './CIC/PDFMalware2022.csv'\n",
    "df_clean_9000 = pd.read_csv(clean_9000, sep=',')\n",
    "df_clean_109 = pd.read_csv(clean_109, sep=',')\n",
    "df_malw_173 = pd.read_csv(malw_173, sep=',')\n",
    "df_malw_10982 = pd.read_csv(malw_10982, sep=',')\n",
    "df_cic = pd.read_csv(cic_dataset, sep=',')"
   ]
  },
  {
   "cell_type": "markdown",
   "metadata": {},
   "source": [
    "Data coming from the Contagio dataset need to be put togheter and the class label has to be added. Secondly we have to split the dataset into training and testing."
   ]
  },
  {
   "cell_type": "code",
   "execution_count": 4,
   "metadata": {},
   "outputs": [],
   "source": [
    "df_clean = pd.concat([df_clean_9000, df_clean_109], axis=0, ignore_index=True)\n",
    "df_malw = pd.concat([df_malw_10982, df_malw_173], axis=0, ignore_index=True)\n",
    "df_clean[\"malware\"] = np.zeros(df_clean.shape[0], dtype='bool')\n",
    "df_malw[\"malware\"] = np.ones(df_malw.shape[0], dtype='bool')\n",
    "df_contagio = pd.concat([df_clean, df_malw], axis=0, ignore_index=True)\n",
    "df_contagio.rename(columns={'/Colors > 2^24': '/Colors'}, inplace=True)\n",
    "X_tot = df_contagio.iloc[:,:-1]\n",
    "y_tot = df_contagio.iloc[:,-1:]\n",
    "X_train, X_test, y_train, y_test= train_test_split(X_tot, y_tot,\n",
    "                                                    test_size= 0.2,\n",
    "                                                    shuffle= True, #shuffle the data to avoid bias\n",
    "                                                    stratify=df_contagio['malware'],\n",
    "                                                    random_state= 0)\n",
    "np.save('./Contagio/X_train.npy', X_train)\n",
    "np.save('./Contagio/X_test.npy', X_test)\n",
    "np.save('./Contagio/y_train.npy', y_train.values.ravel())\n",
    "np.save('./Contagio/y_test.npy', y_test.values.ravel())\n",
    "np.save('./Contagio/X_tot.npy', X_tot)\n",
    "df_contagio.to_pickle('./Contagio/df_tot.pandas')"
   ]
  },
  {
   "cell_type": "markdown",
   "metadata": {},
   "source": [
    "Data coming from CIC dataset are modified to be fully compatible with data coming from the Contagio dataset. This means that only the features coming from PDFId are kept."
   ]
  },
  {
   "cell_type": "code",
   "execution_count": 5,
   "metadata": {},
   "outputs": [],
   "source": [
    "df_cic.rename(columns={'Class':'malware'}, inplace=True)\n",
    "df_cic.loc[df_cic['malware'] == 'Malicious', 'malware'] = True\n",
    "df_cic.loc[df_cic['malware'] == 'Benign', 'malware'] = False\n",
    "df_cic = df_cic.drop(columns=['Fine name','pdfsize','metadata size','pages','xref Length','title characters','isEncrypted','embedded files','images','text','header'])\n",
    "# Drop rows with NaN values\n",
    "df_cic = df_cic.dropna()\n",
    "# Drop rows with negative values\n",
    "df_cic = df_cic.drop(df_cic[df_cic['/Colors'] < 0].index)\n",
    "# Replace nA(nB) into nB -> e.g. 1(1) with 1, 55(3) with 3\n",
    "pattern = re.compile(\"[0-9]+\\([0-9]+\\)\")\n",
    "for col in df_cic.columns:\n",
    "    df_cic[col] = df_cic[col].apply(lambda x: int(str(x).split(\"(\")[1].strip(\")\")) if pattern.match(str(x)) else x)\n",
    "# Discard duplicate rows\n",
    "# df_cic = df_cic.drop_duplicates(subset=df_cic.columns.difference(['malware']))\n",
    "# Convert all columns to Int (except 'malware' column)\n",
    "for col in df_cic.columns:\n",
    "    df_cic[col] = df_cic[col].astype(int) if col != 'malware' else df_cic[col].astype(bool)\n",
    "# Build train and test sets\n",
    "X_tot = df_cic.iloc[:,:-1]\n",
    "y_tot = df_cic.iloc[:,-1:]\n",
    "X_train, X_test, y_train, y_test= train_test_split(X_tot, y_tot,\n",
    "                                                    test_size= 0.2,\n",
    "                                                    shuffle= True, #shuffle the data to avoid bias\n",
    "                                                    stratify=df_cic['malware'],\n",
    "                                                    random_state= 0)\n",
    "np.save('./CIC/X_train.npy', X_train)\n",
    "np.save('./CIC/X_test.npy', X_test)\n",
    "np.save('./CIC/y_train.npy', y_train.values.ravel())\n",
    "np.save('./CIC/y_test.npy', y_test.values.ravel())\n",
    "np.save('./CIC/X_tot.npy', X_tot)\n",
    "df_cic.to_pickle('./CIC/df_tot.pandas')"
   ]
  },
  {
   "cell_type": "code",
   "execution_count": null,
   "metadata": {},
   "outputs": [],
   "source": []
  }
 ],
 "metadata": {
  "kernelspec": {
   "display_name": "Python 3 (ipykernel)",
   "language": "python",
   "name": "python3"
  },
  "language_info": {
   "codemirror_mode": {
    "name": "ipython",
    "version": 3
   },
   "file_extension": ".py",
   "mimetype": "text/x-python",
   "name": "python",
   "nbconvert_exporter": "python",
   "pygments_lexer": "ipython3",
   "version": "3.8.13"
  },
  "vscode": {
   "interpreter": {
    "hash": "d97c278cc629c1c5be7dde8ca92fdbba5c29360d8f8314df257e0bc4e4b04dd5"
   }
  }
 },
 "nbformat": 4,
 "nbformat_minor": 4
}
