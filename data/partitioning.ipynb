{
 "cells": [
  {
   "cell_type": "markdown",
   "metadata": {},
   "source": [
    "# Partitioning"
   ]
  },
  {
   "cell_type": "markdown",
   "metadata": {},
   "source": [
    "We will use Contagio dataset: `Contagio` folder"
   ]
  },
  {
   "cell_type": "code",
   "execution_count": 4,
   "metadata": {},
   "outputs": [],
   "source": [
    "import numpy as np\n",
    "import pandas as pd\n",
    "from sklearn.model_selection import train_test_split\n",
    "import seaborn as sns\n",
    "import matplotlib.pyplot as plt\n",
    "import re"
   ]
  },
  {
   "cell_type": "markdown",
   "metadata": {},
   "source": [
    "Read the csvs and store them in pandas Dataframes "
   ]
  },
  {
   "cell_type": "code",
   "execution_count": 5,
   "metadata": {},
   "outputs": [],
   "source": [
    "clean_9000 = './Contagio/result_clean_pdf_9000_files.csv'\n",
    "clean_109 = './Contagio/result_clean_pdf_109_embed_video.csv'\n",
    "malw_173 = './Contagio/result_malware_pdf_cve_sorted_173_files.csv'\n",
    "malw_10982 = './Contagio/result_malware_pdf_pre_04-2011_10982_files.csv'\n",
    "\n",
    "df_clean_9000 = pd.read_csv(clean_9000, sep=',')\n",
    "df_clean_109 = pd.read_csv(clean_109, sep=',')\n",
    "df_malw_173 = pd.read_csv(malw_173, sep=',')\n",
    "df_malw_10982 = pd.read_csv(malw_10982, sep=',')"
   ]
  },
  {
   "cell_type": "markdown",
   "metadata": {},
   "source": [
    "Data coming from the Contagio dataset are put togheter and the class label are added. Then the dataset is splitted into training and testing."
   ]
  },
  {
   "cell_type": "code",
   "execution_count": 6,
   "metadata": {},
   "outputs": [],
   "source": [
    "df_clean = pd.concat([df_clean_9000, df_clean_109], axis=0, ignore_index=True)\n",
    "df_malw = pd.concat([df_malw_10982, df_malw_173], axis=0, ignore_index=True)\n",
    "df_clean[\"malware\"] = np.zeros(df_clean.shape[0], dtype='bool')\n",
    "df_malw[\"malware\"] = np.ones(df_malw.shape[0], dtype='bool')\n",
    "df_contagio = pd.concat([df_clean, df_malw], axis=0, ignore_index=True)\n",
    "df_contagio.rename(columns={'/Colors > 2^24': '/Colors'}, inplace=True)\n",
    "X_tot = df_contagio.iloc[:,:-1]\n",
    "y_tot = df_contagio.iloc[:,-1:]\n",
    "X_train, X_test, y_train, y_test= train_test_split(X_tot, y_tot,\n",
    "                                                    test_size= 0.2,\n",
    "                                                    shuffle= True, #shuffle the data to avoid bias\n",
    "                                                    stratify=df_contagio['malware'],\n",
    "                                                    random_state= 0)\n",
    "np.save('./Contagio/X_train.npy', X_train)\n",
    "np.save('./Contagio/X_test.npy', X_test)\n",
    "np.save('./Contagio/y_train.npy', y_train.values.ravel())\n",
    "np.save('./Contagio/y_test.npy', y_test.values.ravel())\n",
    "np.save('./Contagio/X_tot.npy', X_tot)\n",
    "df_contagio.to_pickle('./Contagio/df_tot.pandas')"
   ]
  }
 ],
 "metadata": {
  "kernelspec": {
   "display_name": "Python 3 (ipykernel)",
   "language": "python",
   "name": "python3"
  },
  "language_info": {
   "codemirror_mode": {
    "name": "ipython",
    "version": 3
   },
   "file_extension": ".py",
   "mimetype": "text/x-python",
   "name": "python",
   "nbconvert_exporter": "python",
   "pygments_lexer": "ipython3",
   "version": "3.8.13"
  },
  "vscode": {
   "interpreter": {
    "hash": "d97c278cc629c1c5be7dde8ca92fdbba5c29360d8f8314df257e0bc4e4b04dd5"
   }
  }
 },
 "nbformat": 4,
 "nbformat_minor": 4
}
