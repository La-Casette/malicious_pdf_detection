{
 "cells": [
  {
   "cell_type": "markdown",
   "metadata": {},
   "source": [
    "# Partitioning"
   ]
  },
  {
   "cell_type": "code",
   "execution_count": 22,
   "metadata": {},
   "outputs": [],
   "source": [
    "import numpy as np\n",
    "import pandas as pd\n",
    "from sklearn.model_selection import train_test_split\n",
    "import seaborn as sns\n",
    "import matplotlib.pyplot as plt"
   ]
  },
  {
   "cell_type": "code",
   "execution_count": 23,
   "metadata": {},
   "outputs": [],
   "source": [
    "clean_9000 = 'result_clean_pdf_9000_files.csv'\n",
    "clean_109 = 'result_clean_pdf_109_embed_video.csv'\n",
    "malw_173 = 'result_malware_pdf_cve_sorted_173_files.csv'\n",
    "malw_10982 = 'result_malware_pdf_pre_04-2011_10982_files.csv'\n",
    "df_clean_9000 = pd.read_csv(clean_9000, sep=',')\n",
    "df_clean_109 = pd.read_csv(clean_109, sep=',')\n",
    "df_malw_173 = pd.read_csv(malw_173, sep=',')\n",
    "df_malw_10982 = pd.read_csv(malw_10982, sep=',')"
   ]
  },
  {
   "cell_type": "code",
   "execution_count": 24,
   "metadata": {},
   "outputs": [],
   "source": [
    "df_clean = pd.concat([df_clean_9000, df_clean_109], axis=0, ignore_index=True)\n",
    "df_malw = pd.concat([df_malw_10982, df_malw_173], axis=0, ignore_index=True)\n",
    "\n",
    "df_clean[\"malware\"] = np.zeros(df_clean.shape[0], dtype='bool')\n",
    "df_malw[\"malware\"] = np.ones(df_malw.shape[0], dtype='bool')"
   ]
  },
  {
   "cell_type": "code",
   "execution_count": 25,
   "metadata": {},
   "outputs": [],
   "source": [
    "df_tot = pd.concat([df_clean, df_malw], axis=0, ignore_index=True)\n",
    "\n",
    "# Separate feature data from class label\n",
    "# TODO df_tot = df_tot.drop(columns=['/JavaScript', '/JS'])\n",
    "X_tot = df_tot.iloc[:,:-1]\n",
    "y_tot = df_tot.iloc[:,-1:]\n",
    "\n",
    "X_train, X_test, y_train, y_test= train_test_split(X_tot, y_tot,\n",
    "                                                   test_size= 0.1,\n",
    "                                                   shuffle= True, #shuffle the data to avoid bias\n",
    "                                                   stratify=df_tot['malware'],\n",
    "                                                   random_state= 0)\n",
    "\n",
    "#X_train.to_csv(\"pdf_train.csv\", index = False)\n",
    "#df_val.to_csv(\"pdf_val.csv\", index = False)\n",
    "#df_test.to_csv(\"pdf_test.csv\", index = False)"
   ]
  },
  {
   "cell_type": "code",
   "execution_count": 26,
   "metadata": {},
   "outputs": [],
   "source": [
    "#from pandas.plotting import scatter_matrix\n",
    "#scatter_matrix(X_tot, c=df_tot['malware'], figsize=(30,20))"
   ]
  },
  {
   "cell_type": "code",
   "execution_count": 27,
   "metadata": {},
   "outputs": [],
   "source": [
    "import sklearn.metrics as metrics\n",
    "# 905: benign benign TN\n",
    "# 6: benign predicted as malign FP\n",
    "# 8: malign predicted as benign FN\n",
    "# 1102: malign malign TP\n",
    "def compute_scores(y_test, y_test_predicted):\n",
    "    knn_confmat = metrics.confusion_matrix(y_test, y_test_predicted)\n",
    "    print('False positive: %d'%(knn_confmat[0, 1]))\n",
    "    print('True positive: %d'%(knn_confmat[1, 1]))\n",
    "    print('False negative: %d'%(knn_confmat[1, 0]))\n",
    "    print('True negative: %d'%(knn_confmat[0, 0]))\n",
    "    print('False Negative Rate: %f%%'%((knn_confmat[1, 0]/(knn_confmat[1, 0] + knn_confmat[1, 1]))*100))"
   ]
  },
  {
   "cell_type": "code",
   "execution_count": 28,
   "metadata": {},
   "outputs": [
    {
     "data": {
      "text/plain": [
       "'\\nfrom sklearn.decomposition import PCA\\npca = PCA(n_components=2)\\nX_test =  pca.fit(X_train).transform(X_test)\\nX_train = pca.fit(X_train).transform(X_train)\\nplt.scatter(X_train[y_train.values.ravel()==False, 0], X_train[y_train.values.ravel()==False, 1], alpha=0.1)\\nplt.scatter(X_train[y_train.values.ravel()==True, 0], X_train[y_train.values.ravel()==True, 1], alpha=0.1)\\nf = X_train[y_train.values.ravel()==False, 0].shape[0]\\nt = X_train[y_train.values.ravel()==True, 0].shape[0]\\n#plt.scatter(X_train[y_train.values.ravel()==False, 0], np.ones(f), alpha=0.05)\\n#plt.scatter(X_train[y_train.values.ravel()==True, 0], np.ones(t), alpha=0.05)\\nplt.xlim([-100, 1000])\\nplt.ylim([-50, 50])\\n'"
      ]
     },
     "execution_count": 28,
     "metadata": {},
     "output_type": "execute_result"
    }
   ],
   "source": [
    "\"\"\"\n",
    "from sklearn.decomposition import PCA\n",
    "pca = PCA(n_components=2)\n",
    "X_test =  pca.fit(X_train).transform(X_test)\n",
    "X_train = pca.fit(X_train).transform(X_train)\n",
    "plt.scatter(X_train[y_train.values.ravel()==False, 0], X_train[y_train.values.ravel()==False, 1], alpha=0.1)\n",
    "plt.scatter(X_train[y_train.values.ravel()==True, 0], X_train[y_train.values.ravel()==True, 1], alpha=0.1)\n",
    "f = X_train[y_train.values.ravel()==False, 0].shape[0]\n",
    "t = X_train[y_train.values.ravel()==True, 0].shape[0]\n",
    "#plt.scatter(X_train[y_train.values.ravel()==False, 0], np.ones(f), alpha=0.05)\n",
    "#plt.scatter(X_train[y_train.values.ravel()==True, 0], np.ones(t), alpha=0.05)\n",
    "plt.xlim([-100, 1000])\n",
    "plt.ylim([-50, 50])\n",
    "\"\"\""
   ]
  },
  {
   "cell_type": "code",
   "execution_count": 45,
   "metadata": {},
   "outputs": [
    {
     "name": "stderr",
     "output_type": "stream",
     "text": [
      "/Users/mattiarosso/opt/anaconda3/envs/malis/lib/python3.8/site-packages/sklearn/neighbors/_classification.py:207: DataConversionWarning: A column-vector y was passed when a 1d array was expected. Please change the shape of y to (n_samples,), for example using ravel().\n",
      "  return self._fit(X, y)\n"
     ]
    },
    {
     "name": "stdout",
     "output_type": "stream",
     "text": [
      "Accuracy on testing: 99.307274%\n",
      "Accuracy on training: 99.725093%\n",
      "False positive: 13\n",
      "True positive: 9953\n",
      "False negative: 37\n",
      "True negative: 8185\n",
      "False Negative Rate: 0.370370%\n"
     ]
    }
   ],
   "source": [
    "from sklearn.neighbors import KNeighborsClassifier\n",
    "knn_clf = KNeighborsClassifier(n_neighbors=3)\n",
    "knn_clf.fit(X_train, y_train)\n",
    "y_test_predicted = knn_clf.predict(X_test).reshape(-1,1)\n",
    "print('Accuracy on testing: %f%%' % (metrics.accuracy_score(y_test, y_test_predicted)*100))\n",
    "y_train_predicted = knn_clf.predict(X_train).reshape(-1,1)\n",
    "print('Accuracy on training: %f%%' % (metrics.accuracy_score(y_train, y_train_predicted)*100))\n",
    "compute_scores(y_train, y_train_predicted)"
   ]
  },
  {
   "cell_type": "code",
   "execution_count": 185,
   "metadata": {},
   "outputs": [
    {
     "name": "stderr",
     "output_type": "stream",
     "text": [
      "/Users/mattiarosso/opt/anaconda3/envs/malis/lib/python3.8/site-packages/sklearn/utils/validation.py:1111: DataConversionWarning: A column-vector y was passed when a 1d array was expected. Please change the shape of y to (n_samples, ), for example using ravel().\n",
      "  y = column_or_1d(y, warn=True)\n"
     ]
    },
    {
     "name": "stdout",
     "output_type": "stream",
     "text": [
      "Accuracy: 87.382484%\n",
      "False positive: 208\n",
      "True positive: 1063\n",
      "False negative: 47\n",
      "True negative: 703\n",
      "False Negative Rate: 4.234234%\n"
     ]
    }
   ],
   "source": [
    "from sklearn.linear_model import Perceptron\n",
    "perc_clf = Perceptron()\n",
    "perc_clf.fit(X_train, y_train)\n",
    "y_test_predicted = perc_clf.predict(X_test).reshape(-1,1)\n",
    "print('Accuracy: %f%%' % (metrics.accuracy_score(y_test, y_test_predicted)*100))\n",
    "compute_scores(y_test, y_test_predicted)"
   ]
  },
  {
   "cell_type": "code",
   "execution_count": 87,
   "metadata": {},
   "outputs": [
    {
     "name": "stdout",
     "output_type": "stream",
     "text": [
      "Accuracy: 81.939634%\n",
      "False positive: 331\n",
      "True positive: 1076\n",
      "False negative: 34\n",
      "True negative: 580\n",
      "False Negative Rate: 3.063063%\n"
     ]
    },
    {
     "name": "stderr",
     "output_type": "stream",
     "text": [
      "/Users/mattiarosso/opt/anaconda3/envs/malis/lib/python3.8/site-packages/sklearn/utils/validation.py:1111: DataConversionWarning: A column-vector y was passed when a 1d array was expected. Please change the shape of y to (n_samples, ), for example using ravel().\n",
      "  y = column_or_1d(y, warn=True)\n"
     ]
    }
   ],
   "source": [
    "from sklearn.naive_bayes import GaussianNB\n",
    "gnb_clf = GaussianNB()\n",
    "gnb_clf.fit(X_train, y_train)\n",
    "y_test_predicted = gnb_clf.predict(X_test).reshape(-1,1)\n",
    "print('Accuracy: %f%%' % (metrics.accuracy_score(y_test, y_test_predicted)*100))\n",
    "compute_scores(y_test, y_test_predicted)"
   ]
  },
  {
   "cell_type": "code",
   "execution_count": 29,
   "metadata": {},
   "outputs": [
    {
     "name": "stderr",
     "output_type": "stream",
     "text": [
      "/var/folders/48/1_svc68j0_b2js686ls_zqhh0000gn/T/ipykernel_13471/2742071699.py:3: DataConversionWarning: A column-vector y was passed when a 1d array was expected. Please change the shape of y to (n_samples,), for example using ravel().\n",
      "  tree_clf.fit(X_train, y_train)\n"
     ]
    },
    {
     "name": "stdout",
     "output_type": "stream",
     "text": [
      "Error rate: 0.098961%\n",
      "Accuracy: 99.901039%\n"
     ]
    }
   ],
   "source": [
    "from sklearn.ensemble import RandomForestClassifier\n",
    "tree_clf = RandomForestClassifier()\n",
    "tree_clf.fit(X_train, y_train)\n",
    "y_test_predicted = tree_clf.predict(X_test).reshape(-1,1)\n",
    "accuracy = (y_test.values == y_test_predicted).sum() / len(y_test_predicted)\n",
    "error_rate = 1-accuracy\n",
    "print('Error rate: %f%%' % (error_rate*100))\n",
    "print('Accuracy: %f%%' % (accuracy*100))"
   ]
  },
  {
   "cell_type": "code",
   "execution_count": null,
   "metadata": {},
   "outputs": [],
   "source": []
  }
 ],
 "metadata": {
  "kernelspec": {
   "display_name": "Python 3 (ipykernel)",
   "language": "python",
   "name": "python3"
  },
  "language_info": {
   "codemirror_mode": {
    "name": "ipython",
    "version": 3
   },
   "file_extension": ".py",
   "mimetype": "text/x-python",
   "name": "python",
   "nbconvert_exporter": "python",
   "pygments_lexer": "ipython3",
   "version": "3.8.13"
  },
  "vscode": {
   "interpreter": {
    "hash": "d97c278cc629c1c5be7dde8ca92fdbba5c29360d8f8314df257e0bc4e4b04dd5"
   }
  }
 },
 "nbformat": 4,
 "nbformat_minor": 4
}
