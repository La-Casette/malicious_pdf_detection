{
 "cells": [
  {
   "cell_type": "code",
   "execution_count": 52,
   "metadata": {},
   "outputs": [],
   "source": [
    "import numpy as np\n",
    "import pandas as pd\n",
    "from sklearn.model_selection import train_test_split"
   ]
  },
  {
   "cell_type": "code",
   "execution_count": 43,
   "metadata": {},
   "outputs": [],
   "source": [
    "clean_9000 = 'result_clean_pdf_9000_files.csv'\n",
    "clean_109 = 'result_clean_pdf_109_embed_video.csv'\n",
    "malw_173 = 'result_malware_pdf_cve_sorted_173_files.csv'\n",
    "malw_10982 = 'result_malware_pdf_pre_04-2011_10982_files.csv'\n",
    "df_clean_9000 = pd.read_csv(clean_9000, sep=',')\n",
    "df_clean_109 = pd.read_csv(clean_109, sep=',')\n",
    "df_malw_173 = pd.read_csv(malw_173, sep=',')\n",
    "df_malw_10982 = pd.read_csv(malw_10982, sep=',')"
   ]
  },
  {
   "cell_type": "code",
   "execution_count": 44,
   "metadata": {},
   "outputs": [
    {
     "name": "stderr",
     "output_type": "stream",
     "text": [
      "/var/folders/48/1_svc68j0_b2js686ls_zqhh0000gn/T/ipykernel_43727/1789017819.py:1: FutureWarning: The frame.append method is deprecated and will be removed from pandas in a future version. Use pandas.concat instead.\n",
      "  df_clean = df_clean_9000.append(df_clean_109, ignore_index=True)\n",
      "/var/folders/48/1_svc68j0_b2js686ls_zqhh0000gn/T/ipykernel_43727/1789017819.py:2: FutureWarning: The frame.append method is deprecated and will be removed from pandas in a future version. Use pandas.concat instead.\n",
      "  df_malw = df_malw_10982.append(df_malw_173, ignore_index=True)\n"
     ]
    }
   ],
   "source": [
    "df_clean = df_clean_9000.append(df_clean_109, ignore_index=True)\n",
    "df_malw = df_malw_10982.append(df_malw_173, ignore_index=True)"
   ]
  },
  {
   "cell_type": "code",
   "execution_count": 67,
   "metadata": {},
   "outputs": [
    {
     "name": "stderr",
     "output_type": "stream",
     "text": [
      "/var/folders/48/1_svc68j0_b2js686ls_zqhh0000gn/T/ipykernel_43727/2443839953.py:3: FutureWarning: The frame.append method is deprecated and will be removed from pandas in a future version. Use pandas.concat instead.\n",
      "  df_tot = df_clean.append(df_malw, ignore_index=True)\n"
     ]
    }
   ],
   "source": [
    "df_clean[\"malware\"] = np.zeros(df_clean.shape[0], dtype='bool')\n",
    "df_malw[\"malware\"] = np.ones(df_malw.shape[0], dtype='bool')\n",
    "df_tot = df_clean.append(df_malw, ignore_index=True)\n",
    "df_train, df_test = train_test_split(df_tot, test_size=0.1)"
   ]
  },
  {
   "cell_type": "code",
   "execution_count": 143,
   "metadata": {},
   "outputs": [
    {
     "name": "stderr",
     "output_type": "stream",
     "text": [
      "/Users/mattiarosso/opt/anaconda3/envs/malis/lib/python3.8/site-packages/sklearn/neighbors/_classification.py:207: DataConversionWarning: A column-vector y was passed when a 1d array was expected. Please change the shape of y to (n_samples,), for example using ravel().\n",
      "  return self._fit(X, y)\n"
     ]
    },
    {
     "data": {
      "text/plain": [
       "0.9990103908955963"
      ]
     },
     "execution_count": 143,
     "metadata": {},
     "output_type": "execute_result"
    }
   ],
   "source": [
    "from sklearn.neighbors import KNeighborsClassifier\n",
    "knn = KNeighborsClassifier(n_neighbors=1)\n",
    "knn.fit(df_train.iloc[:,:-1], df_train.iloc[:,-1:])\n",
    "y_hat = knn.predict(df_test.iloc[:,:-1])\n",
    "y = df_test.iloc[:,-1:].values.ravel()\n",
    "#print(y_hat.sum() / df_test.shape[0]==True)\n",
    "#for i in range(y_ha)\n",
    "pred = y == y_hat\n",
    "pred.sum() / len(y)"
   ]
  },
  {
   "cell_type": "code",
   "execution_count": null,
   "metadata": {},
   "outputs": [],
   "source": []
  }
 ],
 "metadata": {
  "kernelspec": {
   "display_name": "Python 3.8.13 ('malis')",
   "language": "python",
   "name": "python3"
  },
  "language_info": {
   "codemirror_mode": {
    "name": "ipython",
    "version": 3
   },
   "file_extension": ".py",
   "mimetype": "text/x-python",
   "name": "python",
   "nbconvert_exporter": "python",
   "pygments_lexer": "ipython3",
   "version": "3.8.13"
  },
  "orig_nbformat": 4,
  "vscode": {
   "interpreter": {
    "hash": "d97c278cc629c1c5be7dde8ca92fdbba5c29360d8f8314df257e0bc4e4b04dd5"
   }
  }
 },
 "nbformat": 4,
 "nbformat_minor": 2
}
