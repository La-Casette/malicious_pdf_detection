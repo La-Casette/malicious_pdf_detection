{
 "cells": [
  {
   "cell_type": "markdown",
   "id": "404da8fa-ea8f-44e4-aa79-fe2732ad8fb1",
   "metadata": {},
   "source": [
    "# KNN"
   ]
  },
  {
   "cell_type": "code",
   "execution_count": 21,
   "id": "a5efb102-e76b-4392-acec-2ba4d9be7e37",
   "metadata": {},
   "outputs": [],
   "source": [
    "import numpy as np\n",
    "import pandas as pd\n",
    "from sklearn.neighbors import KNeighborsClassifier"
   ]
  },
  {
   "cell_type": "code",
   "execution_count": 22,
   "id": "9a172fea-10a6-41e0-bc05-da6b71bfd722",
   "metadata": {},
   "outputs": [],
   "source": [
    "#Loading the splits\n",
    "df_train = pd.read_csv('../data/pdf_train.csv')\n",
    "df_val = pd.read_csv('../data/pdf_val.csv')\n",
    "df_test = pd.read_csv('../data/pdf_test.csv')"
   ]
  },
  {
   "cell_type": "code",
   "execution_count": 23,
   "id": "cc1ef1c6-0044-4dae-a66c-03de2da84cf6",
   "metadata": {},
   "outputs": [],
   "source": [
    "label = 'malware'\n",
    "#We copy the output label\n",
    "y_train=df_train[label]\n",
    "#We remove the output label from X\n",
    "X_train=df_train.drop([label],axis=1)\n",
    "\n",
    "#process is repeated for test and validation\n",
    "y_test=df_test[label]\n",
    "X_test=df_test.drop([label],axis=1)\n",
    "\n",
    "y_val=df_val[label]\n",
    "X_val=df_val.drop([label],axis=1)\n",
    "\n",
    "#We call prepare_data\n",
    "#X_train = np.array(X_train)\n",
    "#X_val = np.array(X_val)\n",
    "#X_test = np.array(X_test)\n",
    "#y_train = np.array(y_train)\n",
    "#y_val = np.array(y_val)\n",
    "#y_test = np.array(y_test)"
   ]
  },
  {
   "cell_type": "code",
   "execution_count": 31,
   "id": "7a1c6b94-db82-43c2-b226-983dfdd44989",
   "metadata": {},
   "outputs": [
    {
     "data": {
      "text/plain": [
       "0.9934029686641012"
      ]
     },
     "execution_count": 31,
     "metadata": {},
     "output_type": "execute_result"
    }
   ],
   "source": [
    "knn = KNeighborsClassifier(n_neighbors=5)\n",
    "knn.fit(X_train, y_train)\n",
    "y_hat = knn.predict(X_val)\n",
    "#print(y_hat.sum() / df_test.shape[0]==True)\n",
    "#for i in range(y_ha)\n",
    "pred = y_val == y_hat\n",
    "pred.sum() / len(y_val)"
   ]
  },
  {
   "cell_type": "code",
   "execution_count": null,
   "id": "e60441af-5c3d-41ec-8616-d898c3c2bf99",
   "metadata": {},
   "outputs": [],
   "source": []
  }
 ],
 "metadata": {
  "kernelspec": {
   "display_name": "Python 3 (ipykernel)",
   "language": "python",
   "name": "python3"
  },
  "language_info": {
   "codemirror_mode": {
    "name": "ipython",
    "version": 3
   },
   "file_extension": ".py",
   "mimetype": "text/x-python",
   "name": "python",
   "nbconvert_exporter": "python",
   "pygments_lexer": "ipython3",
   "version": "3.8.13"
  }
 },
 "nbformat": 4,
 "nbformat_minor": 5
}
