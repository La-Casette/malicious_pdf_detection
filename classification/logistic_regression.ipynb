{
 "cells": [
  {
   "cell_type": "code",
   "execution_count": 3,
   "id": "bd041bf0-e04e-4692-9527-7dd9162ae7b8",
   "metadata": {},
   "outputs": [],
   "source": [
    "import numpy as np\n",
    "import pandas as pd\n",
    "from sklearn.linear_model import LogisticRegression\n",
    "import sklearn.metrics as metrics\n",
    "import model_evaluator\n",
    "import data_import"
   ]
  },
  {
   "cell_type": "code",
   "execution_count": 4,
   "id": "4f17c38e-6cec-4019-aa97-ab2e0ca066be",
   "metadata": {},
   "outputs": [],
   "source": [
    "# Import data\n",
    "X_tot, df_tot, X_train, X_test, y_train, y_test = data_import.import_data_train_test()"
   ]
  },
  {
   "cell_type": "code",
   "execution_count": 5,
   "id": "e3668f8a-5894-417d-b093-cb033ada481d",
   "metadata": {},
   "outputs": [
    {
     "data": {
      "text/plain": [
       "array([0.98645904, 0.98458445, 0.98101695, 0.97856664, 0.98604327])"
      ]
     },
     "execution_count": 5,
     "metadata": {},
     "output_type": "execute_result"
    }
   ],
   "source": [
    "# kernel to be set linear as it is binary class\n",
    "classifier = LogisticRegression()\n",
    "\n",
    "# traininf the model\n",
    "#classifier.fit(X_train, y_train)\n",
    "kfold_scores_npv = model_evaluator.kfold_cross_validation(classifier, X_train, y_train, k=5, scoring='precision')\n",
    "kfold_scores_npv"
   ]
  },
  {
   "cell_type": "code",
   "execution_count": null,
   "id": "b54d872c-8d57-42c5-826b-63d4b60f2ab0",
   "metadata": {},
   "outputs": [],
   "source": []
  }
 ],
 "metadata": {
  "kernelspec": {
   "display_name": "Python 3 (ipykernel)",
   "language": "python",
   "name": "python3"
  },
  "language_info": {
   "codemirror_mode": {
    "name": "ipython",
    "version": 3
   },
   "file_extension": ".py",
   "mimetype": "text/x-python",
   "name": "python",
   "nbconvert_exporter": "python",
   "pygments_lexer": "ipython3",
   "version": "3.8.13"
  }
 },
 "nbformat": 4,
 "nbformat_minor": 5
}
