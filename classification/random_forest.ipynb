{
 "cells": [
  {
   "cell_type": "code",
   "execution_count": 1,
   "id": "2db3dca5-b769-43c2-a9df-461404504a03",
   "metadata": {},
   "outputs": [],
   "source": [
    "import numpy as np\n",
    "import pandas as pd\n",
    "from sklearn.ensemble import RandomForestClassifier\n",
    "import model_evaluator\n",
    "import data_import"
   ]
  },
  {
   "cell_type": "code",
   "execution_count": 3,
   "id": "6973ee82-cb08-4e0c-a71b-bc020678f53b",
   "metadata": {},
   "outputs": [],
   "source": [
    "# Import data\n",
    "X_tot, df_tot, X_train, X_test, y_train, y_test = data_import.import_data_train_test(\"Contagio\")"
   ]
  },
  {
   "cell_type": "code",
   "execution_count": 7,
   "id": "6d1c70fe-0380-4cc8-88af-b4cb23bf2d80",
   "metadata": {},
   "outputs": [
    {
     "data": {
      "text/plain": [
       "array([0.9979564 , 0.99728997, 0.99862448, 0.9972863 , 0.99788285])"
      ]
     },
     "execution_count": 7,
     "metadata": {},
     "output_type": "execute_result"
    }
   ],
   "source": [
    "# kernel to be set linear as it is binary class\n",
    "classifier = RandomForestClassifier()\n",
    "\n",
    "# traininf the model\n",
    "#classifier.fit(X_train, y_train)\n",
    "kfold_scores_npv = model_evaluator.kfold_cross_validation(classifier, X_train, y_train, k=5, scoring='precision')\n",
    "kfold_scores_npv"
   ]
  },
  {
   "cell_type": "code",
   "execution_count": null,
   "id": "05a05a9c-fec8-45f5-b83d-021e8c3622b9",
   "metadata": {},
   "outputs": [],
   "source": []
  }
 ],
 "metadata": {
  "kernelspec": {
   "display_name": "Python 3 (ipykernel)",
   "language": "python",
   "name": "python3"
  },
  "language_info": {
   "codemirror_mode": {
    "name": "ipython",
    "version": 3
   },
   "file_extension": ".py",
   "mimetype": "text/x-python",
   "name": "python",
   "nbconvert_exporter": "python",
   "pygments_lexer": "ipython3",
   "version": "3.8.13"
  }
 },
 "nbformat": 4,
 "nbformat_minor": 5
}
