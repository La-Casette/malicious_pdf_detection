{
 "cells": [
  {
   "cell_type": "code",
   "execution_count": 2,
   "metadata": {},
   "outputs": [],
   "source": [
    "import numpy as np\n",
    "import pandas as pd\n",
    "from pandas.plotting import scatter_matrix\n",
    "import matplotlib.pyplot as plt\n",
    "from sklearn.decomposition import PCA"
   ]
  },
  {
   "cell_type": "code",
   "execution_count": 3,
   "metadata": {},
   "outputs": [],
   "source": [
    "# Read data from npy object\n",
    "X_tot = np.load('../data/X_tot.npy')\n",
    "X_train, X_test, y_train, y_test = np.load('../data/X_train.npy'), np.load('../data/X_test.npy'), np.load('../data/y_train.npy'), np.load('../data/y_test.npy')\n",
    "df_tot = pd.read_pickle('../data/df_tot.pandas')"
   ]
  },
  {
   "cell_type": "code",
   "execution_count": null,
   "metadata": {},
   "outputs": [],
   "source": [
    "scatter_matrix(X_tot, c=df_tot['malware'], figsize=(30,20))"
   ]
  },
  {
   "cell_type": "code",
   "execution_count": null,
   "metadata": {},
   "outputs": [],
   "source": [
    "pca = PCA(n_components=2)\n",
    "X_test =  pca.fit(X_train).transform(X_test)\n",
    "X_train = pca.fit(X_train).transform(X_train)\n",
    "plt.scatter(X_train[y_train.values.ravel()==False, 0], X_train[y_train.values.ravel()==False, 1], alpha=0.1)\n",
    "plt.scatter(X_train[y_train.values.ravel()==True, 0], X_train[y_train.values.ravel()==True, 1], alpha=0.1)\n",
    "f = X_train[y_train.values.ravel()==False, 0].shape[0]\n",
    "t = X_train[y_train.values.ravel()==True, 0].shape[0]\n",
    "#plt.scatter(X_train[y_train.values.ravel()==False, 0], np.ones(f), alpha=0.05)\n",
    "#plt.scatter(X_train[y_train.values.ravel()==True, 0], np.ones(t), alpha=0.05)\n",
    "plt.xlim([-100, 1000])\n",
    "plt.ylim([-50, 50])"
   ]
  }
 ],
 "metadata": {
  "kernelspec": {
   "display_name": "Python 3.8.13 ('malis')",
   "language": "python",
   "name": "python3"
  },
  "language_info": {
   "codemirror_mode": {
    "name": "ipython",
    "version": 3
   },
   "file_extension": ".py",
   "mimetype": "text/x-python",
   "name": "python",
   "nbconvert_exporter": "python",
   "pygments_lexer": "ipython3",
   "version": "3.8.13"
  },
  "orig_nbformat": 4,
  "vscode": {
   "interpreter": {
    "hash": "d97c278cc629c1c5be7dde8ca92fdbba5c29360d8f8314df257e0bc4e4b04dd5"
   }
  }
 },
 "nbformat": 4,
 "nbformat_minor": 2
}
