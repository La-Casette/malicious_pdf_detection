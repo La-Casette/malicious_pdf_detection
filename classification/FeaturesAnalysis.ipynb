{
 "cells": [
  {
   "cell_type": "code",
   "execution_count": 1,
   "metadata": {},
   "outputs": [],
   "source": [
    "import numpy as np\n",
    "import pandas as pd\n",
    "from pandas.plotting import scatter_matrix\n",
    "import matplotlib.pyplot as plt\n",
    "from sklearn.decomposition import PCA"
   ]
  },
  {
   "cell_type": "code",
   "execution_count": 5,
   "metadata": {},
   "outputs": [],
   "source": [
    "# Read data from npy object\n",
    "X_tot = np.load('../data/X_tot.npy')\n",
    "X_train, X_test, y_train, y_test = np.load('../data/X_train.npy'), np.load('../data/X_test.npy'), np.load('../data/y_train.npy'), np.load('../data/y_test.npy')\n",
    "df_tot = pd.read_pickle('../data/df_tot.pandas')"
   ]
  },
  {
   "cell_type": "code",
   "execution_count": null,
   "metadata": {},
   "outputs": [],
   "source": [
    "scatter_matrix(X_tot, c=df_tot['malware'], figsize=(30,20))"
   ]
  },
  {
   "cell_type": "code",
   "execution_count": null,
   "metadata": {},
   "outputs": [],
   "source": [
    "pca = PCA(n_components=2)\n",
    "X_test =  pca.fit(X_train).transform(X_test)\n",
    "X_train = pca.fit(X_train).transform(X_train)\n",
    "plt.scatter(X_train[y_train.values.ravel()==False, 0], X_train[y_train.values.ravel()==False, 1], alpha=0.1)\n",
    "plt.scatter(X_train[y_train.values.ravel()==True, 0], X_train[y_train.values.ravel()==True, 1], alpha=0.1)\n",
    "f = X_train[y_train.values.ravel()==False, 0].shape[0]\n",
    "t = X_train[y_train.values.ravel()==True, 0].shape[0]\n",
    "#plt.scatter(X_train[y_train.values.ravel()==False, 0], np.ones(f), alpha=0.05)\n",
    "#plt.scatter(X_train[y_train.values.ravel()==True, 0], np.ones(t), alpha=0.05)\n",
    "plt.xlim([-100, 1000])\n",
    "plt.ylim([-50, 50])"
   ]
  },
  {
   "cell_type": "markdown",
   "metadata": {},
   "source": [
    "# Class separability analysis\n",
    "$S_b = \\frac{1}{N}\\sum_{i=1}^{c}n_c(\\mu_i-\\mu)(\\mu_i-\\mu)^T$\\\n",
    "$S_w = frac{1}{N}\\sum_{i=1}^{c}\\sum_{j=1}^{n_c}\\,(x_{ij}-\\mu_i)(x_{ij}-\\mu_i)^T$\\\n",
    "Property: $S_w + S_b = C$\\\n",
    "1. Class Scatter Matrices (CSM)\\\n",
    "$J = \\frac{tr\\{S_b\\}}{tr\\{S_w\\}}$\\\n",
    "J is an unbounded measure. The larger the value\n",
    "of J the smaller the within class scatter as\n",
    "compared to the between class scatter."
   ]
  },
  {
   "cell_type": "code",
   "execution_count": 115,
   "metadata": {},
   "outputs": [],
   "source": [
    "def computeSb(X, y):\n",
    "    X_1 = X[y==True, :]\n",
    "    X_0 = X[y==False, :]\n",
    "    N_0 = X_0.shape[0]\n",
    "    N_1 = X_1.shape[0]\n",
    "    N = X.shape[0]\n",
    "    mu_1 = np.mean(X_1, axis=0).reshape(-1,1)\n",
    "    mu_0 = np.mean(X_0, axis=0).reshape(-1,1)\n",
    "    mu = np.mean(X, axis=0).reshape(-1,1)\n",
    "    return 1/N * (N_0 * np.dot(mu_0-mu, (mu_0-mu).T) + N_1 * np.dot(mu_1-mu, (mu_1-mu).T))"
   ]
  },
  {
   "cell_type": "code",
   "execution_count": 116,
   "metadata": {},
   "outputs": [],
   "source": [
    "def computeSw(X, y):\n",
    "    X_1 = X[y==True, :]\n",
    "    X_0 = X[y==False, :]\n",
    "    N_0 = X_0.shape[0]\n",
    "    N_1 = X_1.shape[0]\n",
    "    N = X.shape[0]\n",
    "    return 1/N * (N_0 * np.cov(X_0.T, bias=True) + N_1 * np.cov(X_1.T, bias=True))"
   ]
  },
  {
   "cell_type": "code",
   "execution_count": 117,
   "metadata": {},
   "outputs": [],
   "source": [
    "Sw = computeSw(X_train,y_train)\n",
    "Sb = computeSb(X_train,y_train)\n",
    "J = np.trace(Sb) / np.trace(Sw)"
   ]
  },
  {
   "cell_type": "code",
   "execution_count": 118,
   "metadata": {},
   "outputs": [
    {
     "data": {
      "text/plain": [
       "0.11538703760378899"
      ]
     },
     "execution_count": 118,
     "metadata": {},
     "output_type": "execute_result"
    }
   ],
   "source": [
    "J"
   ]
  }
 ],
 "metadata": {
  "kernelspec": {
   "display_name": "Python 3.8.13 ('malis')",
   "language": "python",
   "name": "python3"
  },
  "language_info": {
   "codemirror_mode": {
    "name": "ipython",
    "version": 3
   },
   "file_extension": ".py",
   "mimetype": "text/x-python",
   "name": "python",
   "nbconvert_exporter": "python",
   "pygments_lexer": "ipython3",
   "version": "3.8.13"
  },
  "orig_nbformat": 4,
  "vscode": {
   "interpreter": {
    "hash": "d97c278cc629c1c5be7dde8ca92fdbba5c29360d8f8314df257e0bc4e4b04dd5"
   }
  }
 },
 "nbformat": 4,
 "nbformat_minor": 2
}
