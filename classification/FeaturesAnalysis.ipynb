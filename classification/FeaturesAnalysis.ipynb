{
 "cells": [
  {
   "cell_type": "code",
   "execution_count": 1,
   "metadata": {},
   "outputs": [],
   "source": [
    "import numpy as np\n",
    "import pandas as pd\n",
    "from pandas.plotting import scatter_matrix\n",
    "import matplotlib.pyplot as plt\n",
    "from sklearn.decomposition import PCA\n",
    "import data_import\n",
    "from sklearn.cluster import KMeans\n",
    "from data_preprocessing import KMeansDimensionalityReduction"
   ]
  },
  {
   "cell_type": "markdown",
   "metadata": {},
   "source": [
    "Load data from the `npy` objects "
   ]
  },
  {
   "cell_type": "code",
   "execution_count": 2,
   "metadata": {},
   "outputs": [],
   "source": [
    "# Import data from Contagio dataset\n",
    "X_tot, df_tot, X_train, X_test, y_train, y_test = data_import.import_data_train_test('Contagio')"
   ]
  },
  {
   "cell_type": "markdown",
   "metadata": {},
   "source": [
    "Visualize the scatter matrix to see which features are correlated:"
   ]
  },
  {
   "cell_type": "code",
   "execution_count": 3,
   "metadata": {},
   "outputs": [],
   "source": [
    "#scatter_matrix(df_tot, c=df_tot['malware'], figsize=(30,20))"
   ]
  },
  {
   "cell_type": "markdown",
   "metadata": {},
   "source": [
    "## Dimensionality reduction using MAIORCA approach"
   ]
  },
  {
   "cell_type": "code",
   "execution_count": 4,
   "metadata": {},
   "outputs": [],
   "source": [
    "KMDimRed = KMeansDimensionalityReduction(df_tot)\n",
    "df_tot_km, X_tot_km, X_train_km = KMDimRed.fit_ben_mal_kmeans(df_tot, X_tot, X_train)\n",
    "X_test_km = KMDimRed.transform_ben_mal_kmeans(X_test)"
   ]
  },
  {
   "cell_type": "markdown",
   "metadata": {},
   "source": [
    "KNN using original features:"
   ]
  },
  {
   "cell_type": "code",
   "execution_count": 5,
   "metadata": {},
   "outputs": [
    {
     "name": "stdout",
     "output_type": "stream",
     "text": [
      "Accuracy on testing: 99.678377%\n",
      "Accuracy on training: 99.993815%\n"
     ]
    }
   ],
   "source": [
    "from sklearn.neighbors import KNeighborsClassifier\n",
    "import model_evaluator\n",
    "knn_clf = KNeighborsClassifier(n_neighbors=1)\n",
    "knn_clf.fit(X_train, y_train)\n",
    "y_test_predicted = knn_clf.predict(X_test).reshape(-1,1)\n",
    "print('Accuracy on testing: %f%%' % (model_evaluator.compute_accuracy(y_test, y_test_predicted)*100))\n",
    "y_train_predicted = knn_clf.predict(X_train).reshape(-1,1)\n",
    "print('Accuracy on training: %f%%' % (model_evaluator.compute_accuracy(y_train, y_train_predicted)*100))"
   ]
  },
  {
   "cell_type": "markdown",
   "metadata": {},
   "source": [
    "KNN using kmeans extracted features BEN or MAL:"
   ]
  },
  {
   "cell_type": "code",
   "execution_count": 6,
   "metadata": {},
   "outputs": [
    {
     "name": "stdout",
     "output_type": "stream",
     "text": [
      "Accuracy on testing: 99.703117%\n",
      "Accuracy on training: 99.907218%\n"
     ]
    }
   ],
   "source": [
    "from sklearn.neighbors import KNeighborsClassifier\n",
    "import model_evaluator\n",
    "knn_clf = KNeighborsClassifier(n_neighbors=1)\n",
    "knn_clf.fit(X_train_km, y_train)\n",
    "y_test_predicted = knn_clf.predict(X_test_km).reshape(-1,1)\n",
    "print('Accuracy on testing: %f%%' % (model_evaluator.compute_accuracy(y_test, y_test_predicted)*100))\n",
    "y_train_predicted = knn_clf.predict(X_train_km).reshape(-1,1)\n",
    "print('Accuracy on training: %f%%' % (model_evaluator.compute_accuracy(y_train, y_train_predicted)*100))"
   ]
  },
  {
   "cell_type": "code",
   "execution_count": 8,
   "metadata": {},
   "outputs": [
    {
     "ename": "AttributeError",
     "evalue": "'numpy.ndarray' object has no attribute 'values'",
     "output_type": "error",
     "traceback": [
      "\u001b[0;31m---------------------------------------------------------------------------\u001b[0m",
      "\u001b[0;31mAttributeError\u001b[0m                            Traceback (most recent call last)",
      "Cell \u001b[0;32mIn [8], line 7\u001b[0m\n\u001b[1;32m      5\u001b[0m X_test \u001b[39m=\u001b[39m  pca\u001b[39m.\u001b[39mfit(X_train)\u001b[39m.\u001b[39mtransform(X_test)\n\u001b[1;32m      6\u001b[0m X_train \u001b[39m=\u001b[39m pca\u001b[39m.\u001b[39mfit(X_train)\u001b[39m.\u001b[39mtransform(X_train)\n\u001b[0;32m----> 7\u001b[0m fig1 \u001b[39m=\u001b[39m px\u001b[39m.\u001b[39mscatter(x\u001b[39m=\u001b[39mX_train[y_train\u001b[39m.\u001b[39mvalues\u001b[39m.\u001b[39mravel()\u001b[39m==\u001b[39m\u001b[39mFalse\u001b[39;00m, \u001b[39m0\u001b[39m], y\u001b[39m=\u001b[39mX_train[y_train\u001b[39m.\u001b[39mvalues\u001b[39m.\u001b[39mravel()\u001b[39m==\u001b[39m\u001b[39mFalse\u001b[39;00m, \u001b[39m1\u001b[39m])\n\u001b[1;32m      8\u001b[0m fig1\u001b[39m.\u001b[39mupdate_traces(marker\u001b[39m=\u001b[39m\u001b[39mdict\u001b[39m(color\u001b[39m=\u001b[39m\u001b[39m'\u001b[39m\u001b[39mgreen\u001b[39m\u001b[39m'\u001b[39m))\n\u001b[1;32m      9\u001b[0m fig2 \u001b[39m=\u001b[39m px\u001b[39m.\u001b[39mscatter(x\u001b[39m=\u001b[39mX_train[y_train\u001b[39m.\u001b[39mvalues\u001b[39m.\u001b[39mravel()\u001b[39m==\u001b[39m\u001b[39mTrue\u001b[39;00m, \u001b[39m0\u001b[39m], y\u001b[39m=\u001b[39mX_train[y_train\u001b[39m.\u001b[39mvalues\u001b[39m.\u001b[39mravel()\u001b[39m==\u001b[39m\u001b[39mTrue\u001b[39;00m, \u001b[39m1\u001b[39m])\n",
      "\u001b[0;31mAttributeError\u001b[0m: 'numpy.ndarray' object has no attribute 'values'"
     ]
    }
   ],
   "source": [
    "from sklearn.decomposition import PCA\n",
    "import plotly.express as px\n",
    "import plotly.graph_objects as go\n",
    "pca = PCA(n_components=2)\n",
    "X_test =  pca.fit(X_train).transform(X_test)\n",
    "X_train = pca.fit(X_train).transform(X_train)\n",
    "fig1 = px.scatter(x=X_train[y_train.values.ravel()==False, 0], y=X_train[y_train.values.ravel()==False, 1])\n",
    "fig1.update_traces(marker=dict(color='green'))\n",
    "fig2 = px.scatter(x=X_train[y_train.values.ravel()==True, 0], y=X_train[y_train.values.ravel()==True, 1])\n",
    "fig2.update_traces(marker=dict(color='red'))\n",
    "f = X_train[y_train.values.ravel()==False, 0].shape[0]\n",
    "t = X_train[y_train.values.ravel()==True, 0].shape[0]\n",
    "#plt.scatter(X_train[y_train.values.ravel()==False, 0], np.ones(f), alpha=0.05)\n",
    "#plt.scatter(X_train[y_train.values.ravel()==True, 0], np.ones(t), alpha=0.05)\n",
    "#px.xlim([-75, 0])\n",
    "#px.ylim([-50, 50])\n",
    "fig3 = go.Figure(data=fig1.data + fig2.data)\n",
    "fig3.show()"
   ]
  },
  {
   "cell_type": "markdown",
   "metadata": {},
   "source": [
    "# Class separability analysis\n",
    "$S_b = \\frac{1}{N}\\sum_{i=1}^{c}n_c(\\mu_i-\\mu)(\\mu_i-\\mu)^T$\\\n",
    "$S_w = frac{1}{N}\\sum_{i=1}^{c}\\sum_{j=1}^{n_c}\\,(x_{ij}-\\mu_i)(x_{ij}-\\mu_i)^T$\\\n",
    "Property: $S_w + S_b = C$\\\n",
    "1. Class Scatter Matrices (CSM)\\\n",
    "$J = \\frac{tr\\{S_b\\}}{tr\\{S_w\\}}$\\\n",
    "J is an unbounded measure. The larger the value\n",
    "of J the smaller the within class scatter as\n",
    "compared to the between class scatter."
   ]
  },
  {
   "cell_type": "code",
   "execution_count": null,
   "metadata": {},
   "outputs": [],
   "source": [
    "def computeSb(X, y):\n",
    "    X_1 = X[y==True, :]\n",
    "    X_0 = X[y==False, :]\n",
    "    N_0 = X_0.shape[0]\n",
    "    N_1 = X_1.shape[0]\n",
    "    N = X.shape[0]\n",
    "    mu_1 = np.mean(X_1, axis=0).reshape(-1,1)\n",
    "    mu_0 = np.mean(X_0, axis=0).reshape(-1,1)\n",
    "    mu = np.mean(X, axis=0).reshape(-1,1)\n",
    "    return 1/N * (N_0 * np.dot(mu_0-mu, (mu_0-mu).T) + N_1 * np.dot(mu_1-mu, (mu_1-mu).T))"
   ]
  },
  {
   "cell_type": "code",
   "execution_count": null,
   "metadata": {},
   "outputs": [],
   "source": [
    "def computeSw(X, y):\n",
    "    X_1 = X[y==True, :]\n",
    "    X_0 = X[y==False, :]\n",
    "    N_0 = X_0.shape[0]\n",
    "    N_1 = X_1.shape[0]\n",
    "    N = X.shape[0]\n",
    "    return 1/N * (N_0 * np.cov(X_0.T, bias=True) + N_1 * np.cov(X_1.T, bias=True))"
   ]
  },
  {
   "cell_type": "code",
   "execution_count": null,
   "metadata": {},
   "outputs": [],
   "source": [
    "Sw = computeSw(X_train,y_train)\n",
    "Sb = computeSb(X_train,y_train)\n",
    "J = np.trace(Sb) / np.trace(Sw)"
   ]
  },
  {
   "cell_type": "code",
   "execution_count": null,
   "metadata": {},
   "outputs": [
    {
     "data": {
      "text/plain": [
       "0.11538703760378899"
      ]
     },
     "execution_count": 118,
     "metadata": {},
     "output_type": "execute_result"
    }
   ],
   "source": [
    "J"
   ]
  }
 ],
 "metadata": {
  "kernelspec": {
   "display_name": "Python 3.8.13 ('malis')",
   "language": "python",
   "name": "python3"
  },
  "language_info": {
   "codemirror_mode": {
    "name": "ipython",
    "version": 3
   },
   "file_extension": ".py",
   "mimetype": "text/x-python",
   "name": "python",
   "nbconvert_exporter": "python",
   "pygments_lexer": "ipython3",
   "version": "3.8.13"
  },
  "orig_nbformat": 4,
  "vscode": {
   "interpreter": {
    "hash": "d97c278cc629c1c5be7dde8ca92fdbba5c29360d8f8314df257e0bc4e4b04dd5"
   }
  }
 },
 "nbformat": 4,
 "nbformat_minor": 2
}
