{
 "cells": [
  {
   "cell_type": "markdown",
   "id": "404da8fa-ea8f-44e4-aa79-fe2732ad8fb1",
   "metadata": {},
   "source": [
    "# KNN"
   ]
  },
  {
   "cell_type": "code",
   "execution_count": 4,
   "id": "a5efb102-e76b-4392-acec-2ba4d9be7e37",
   "metadata": {},
   "outputs": [
    {
     "ename": "ImportError",
     "evalue": "attempted relative import with no known parent package",
     "output_type": "error",
     "traceback": [
      "\u001b[0;31m---------------------------------------------------------------------------\u001b[0m",
      "\u001b[0;31mImportError\u001b[0m                               Traceback (most recent call last)",
      "Cell \u001b[0;32mIn [4], line 4\u001b[0m\n\u001b[1;32m      2\u001b[0m \u001b[39mimport\u001b[39;00m \u001b[39mpandas\u001b[39;00m \u001b[39mas\u001b[39;00m \u001b[39mpd\u001b[39;00m\n\u001b[1;32m      3\u001b[0m \u001b[39mfrom\u001b[39;00m \u001b[39msklearn\u001b[39;00m\u001b[39m.\u001b[39;00m\u001b[39mneighbors\u001b[39;00m \u001b[39mimport\u001b[39;00m KNeighborsClassifier\n\u001b[0;32m----> 4\u001b[0m \u001b[39mfrom\u001b[39;00m \u001b[39m.\u001b[39;00m\u001b[39m.\u001b[39;00m\u001b[39mmodel_evaluation\u001b[39;00m \u001b[39mimport\u001b[39;00m evaluator\n",
      "\u001b[0;31mImportError\u001b[0m: attempted relative import with no known parent package"
     ]
    }
   ],
   "source": [
    "import numpy as np\n",
    "import pandas as pd\n",
    "from sklearn.neighbors import KNeighborsClassifier\n",
    "from ..model_evaluation import evaluator"
   ]
  },
  {
   "cell_type": "code",
   "execution_count": null,
   "id": "70677b6b",
   "metadata": {},
   "outputs": [],
   "source": [
    "# Import data\n",
    "# Read data from npy object\n",
    "X_tot = np.load('../data/X_tot.npy')\n",
    "X_train, X_test, y_train, y_test = np.load('../data/X_train.npy'), np.load('../data/X_test.npy'), np.load('../data/y_train.npy'), np.load('../data/y_test.npy')\n",
    "df_tot = pd.read_pickle('../data/df_tot.pandas')"
   ]
  },
  {
   "cell_type": "code",
   "execution_count": null,
   "id": "e60441af-5c3d-41ec-8616-d898c3c2bf99",
   "metadata": {},
   "outputs": [],
   "source": [
    "from sklearn.neighbors import KNeighborsClassifier\n",
    "knn_clf = KNeighborsClassifier(n_neighbors=3)\n",
    "knn_clf.fit(X_train, y_train)\n",
    "y_test_predicted = knn_clf.predict(X_test).reshape(-1,1)\n",
    "print('Accuracy on testing: %f%%' % (metrics.accuracy_score(y_test, y_test_predicted)*100))\n",
    "y_train_predicted = knn_clf.predict(X_train).reshape(-1,1)\n",
    "print('Accuracy on training: %f%%' % (metrics.accuracy_score(y_train, y_train_predicted)*100))\n",
    "evaluator.compute_scores(y_train, y_train_predicted)"
   ]
  }
 ],
 "metadata": {
  "kernelspec": {
   "display_name": "Python 3.8.13 ('malis')",
   "language": "python",
   "name": "python3"
  },
  "language_info": {
   "codemirror_mode": {
    "name": "ipython",
    "version": 3
   },
   "file_extension": ".py",
   "mimetype": "text/x-python",
   "name": "python",
   "nbconvert_exporter": "python",
   "pygments_lexer": "ipython3",
   "version": "3.8.13"
  },
  "vscode": {
   "interpreter": {
    "hash": "d97c278cc629c1c5be7dde8ca92fdbba5c29360d8f8314df257e0bc4e4b04dd5"
   }
  }
 },
 "nbformat": 4,
 "nbformat_minor": 5
}
