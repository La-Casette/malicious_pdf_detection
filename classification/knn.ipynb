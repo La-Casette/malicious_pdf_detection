{
 "cells": [
  {
   "cell_type": "markdown",
   "id": "404da8fa-ea8f-44e4-aa79-fe2732ad8fb1",
   "metadata": {},
   "source": [
    "# KNN"
   ]
  },
  {
   "cell_type": "code",
   "execution_count": 1,
   "id": "a5efb102-e76b-4392-acec-2ba4d9be7e37",
   "metadata": {},
   "outputs": [],
   "source": [
    "import numpy as np\n",
    "import pandas as pd\n",
    "from sklearn.neighbors import KNeighborsClassifier\n",
    "import sklearn.metrics as metrics\n",
    "import model_evaluator\n",
    "import data_import"
   ]
  },
  {
   "cell_type": "code",
   "execution_count": 2,
   "id": "70677b6b",
   "metadata": {},
   "outputs": [],
   "source": [
    "# Import data\n",
    "X_tot, df_tot, X_train, X_test, y_train, y_test = data_import.import_data_train_test()"
   ]
  },
  {
   "cell_type": "code",
   "execution_count": 3,
   "id": "e60441af-5c3d-41ec-8616-d898c3c2bf99",
   "metadata": {},
   "outputs": [
    {
     "name": "stderr",
     "output_type": "stream",
     "text": [
      "/Users/mattiarosso/opt/anaconda3/envs/malis/lib/python3.8/site-packages/sklearn/neighbors/_classification.py:207: DataConversionWarning: A column-vector y was passed when a 1d array was expected. Please change the shape of y to (n_samples,), for example using ravel().\n",
      "  return self._fit(X, y)\n"
     ]
    },
    {
     "name": "stdout",
     "output_type": "stream",
     "text": [
      "Accuracy on testing: 0.995299%Accuracy on testing: 0.995299%Accuracy on testing: 0.995299%Accuracy on testing: 0.995299%Accuracy on testing: 0.995299%Accuracy on testing: 0.995299%Accuracy on testing: 0.995299%Accuracy on testing: 0.995299%Accuracy on testing: 0.995299%Accuracy on testing: 0.995299%Accuracy on testing: 0.995299%Accuracy on testing: 0.995299%Accuracy on testing: 0.995299%Accuracy on testing: 0.995299%Accuracy on testing: 0.995299%Accuracy on testing: 0.995299%Accuracy on testing: 0.995299%Accuracy on testing: 0.995299%Accuracy on testing: 0.995299%Accuracy on testing: 0.995299%Accuracy on testing: 0.995299%Accuracy on testing: 0.995299%Accuracy on testing: 0.995299%Accuracy on testing: 0.995299%Accuracy on testing: 0.995299%Accuracy on testing: 0.995299%Accuracy on testing: 0.995299%Accuracy on testing: 0.995299%Accuracy on testing: 0.995299%Accuracy on testing: 0.995299%Accuracy on testing: 0.995299%Accuracy on testing: 0.995299%Accuracy on testing: 0.995299%Accuracy on testing: 0.995299%Accuracy on testing: 0.995299%Accuracy on testing: 0.995299%Accuracy on testing: 0.995299%Accuracy on testing: 0.995299%Accuracy on testing: 0.995299%Accuracy on testing: 0.995299%Accuracy on testing: 0.995299%Accuracy on testing: 0.995299%Accuracy on testing: 0.995299%Accuracy on testing: 0.995299%Accuracy on testing: 0.995299%Accuracy on testing: 0.995299%Accuracy on testing: 0.995299%Accuracy on testing: 0.995299%Accuracy on testing: 0.995299%Accuracy on testing: 0.995299%Accuracy on testing: 0.995299%Accuracy on testing: 0.995299%Accuracy on testing: 0.995299%Accuracy on testing: 0.995299%Accuracy on testing: 0.995299%Accuracy on testing: 0.995299%Accuracy on testing: 0.995299%Accuracy on testing: 0.995299%Accuracy on testing: 0.995299%Accuracy on testing: 0.995299%Accuracy on testing: 0.995299%Accuracy on testing: 0.995299%Accuracy on testing: 0.995299%Accuracy on testing: 0.995299%Accuracy on testing: 0.995299%Accuracy on testing: 0.995299%Accuracy on testing: 0.995299%Accuracy on testing: 0.995299%Accuracy on testing: 0.995299%Accuracy on testing: 0.995299%Accuracy on testing: 0.995299%Accuracy on testing: 0.995299%Accuracy on testing: 0.995299%Accuracy on testing: 0.995299%Accuracy on testing: 0.995299%Accuracy on testing: 0.995299%Accuracy on testing: 0.995299%Accuracy on testing: 0.995299%Accuracy on testing: 0.995299%Accuracy on testing: 0.995299%Accuracy on testing: 0.995299%Accuracy on testing: 0.995299%Accuracy on testing: 0.995299%Accuracy on testing: 0.995299%Accuracy on testing: 0.995299%Accuracy on testing: 0.995299%Accuracy on testing: 0.995299%Accuracy on testing: 0.995299%Accuracy on testing: 0.995299%Accuracy on testing: 0.995299%Accuracy on testing: 0.995299%Accuracy on testing: 0.995299%Accuracy on testing: 0.995299%Accuracy on testing: 0.995299%Accuracy on testing: 0.995299%Accuracy on testing: 0.995299%Accuracy on testing: 0.995299%Accuracy on testing: 0.995299%Accuracy on testing: 0.995299%Accuracy on testing: 0.995299%\n",
      "Accuracy on training: 0.996907%Accuracy on training: 0.996907%Accuracy on training: 0.996907%Accuracy on training: 0.996907%Accuracy on training: 0.996907%Accuracy on training: 0.996907%Accuracy on training: 0.996907%Accuracy on training: 0.996907%Accuracy on training: 0.996907%Accuracy on training: 0.996907%Accuracy on training: 0.996907%Accuracy on training: 0.996907%Accuracy on training: 0.996907%Accuracy on training: 0.996907%Accuracy on training: 0.996907%Accuracy on training: 0.996907%Accuracy on training: 0.996907%Accuracy on training: 0.996907%Accuracy on training: 0.996907%Accuracy on training: 0.996907%Accuracy on training: 0.996907%Accuracy on training: 0.996907%Accuracy on training: 0.996907%Accuracy on training: 0.996907%Accuracy on training: 0.996907%Accuracy on training: 0.996907%Accuracy on training: 0.996907%Accuracy on training: 0.996907%Accuracy on training: 0.996907%Accuracy on training: 0.996907%Accuracy on training: 0.996907%Accuracy on training: 0.996907%Accuracy on training: 0.996907%Accuracy on training: 0.996907%Accuracy on training: 0.996907%Accuracy on training: 0.996907%Accuracy on training: 0.996907%Accuracy on training: 0.996907%Accuracy on training: 0.996907%Accuracy on training: 0.996907%Accuracy on training: 0.996907%Accuracy on training: 0.996907%Accuracy on training: 0.996907%Accuracy on training: 0.996907%Accuracy on training: 0.996907%Accuracy on training: 0.996907%Accuracy on training: 0.996907%Accuracy on training: 0.996907%Accuracy on training: 0.996907%Accuracy on training: 0.996907%Accuracy on training: 0.996907%Accuracy on training: 0.996907%Accuracy on training: 0.996907%Accuracy on training: 0.996907%Accuracy on training: 0.996907%Accuracy on training: 0.996907%Accuracy on training: 0.996907%Accuracy on training: 0.996907%Accuracy on training: 0.996907%Accuracy on training: 0.996907%Accuracy on training: 0.996907%Accuracy on training: 0.996907%Accuracy on training: 0.996907%Accuracy on training: 0.996907%Accuracy on training: 0.996907%Accuracy on training: 0.996907%Accuracy on training: 0.996907%Accuracy on training: 0.996907%Accuracy on training: 0.996907%Accuracy on training: 0.996907%Accuracy on training: 0.996907%Accuracy on training: 0.996907%Accuracy on training: 0.996907%Accuracy on training: 0.996907%Accuracy on training: 0.996907%Accuracy on training: 0.996907%Accuracy on training: 0.996907%Accuracy on training: 0.996907%Accuracy on training: 0.996907%Accuracy on training: 0.996907%Accuracy on training: 0.996907%Accuracy on training: 0.996907%Accuracy on training: 0.996907%Accuracy on training: 0.996907%Accuracy on training: 0.996907%Accuracy on training: 0.996907%Accuracy on training: 0.996907%Accuracy on training: 0.996907%Accuracy on training: 0.996907%Accuracy on training: 0.996907%Accuracy on training: 0.996907%Accuracy on training: 0.996907%Accuracy on training: 0.996907%Accuracy on training: 0.996907%Accuracy on training: 0.996907%Accuracy on training: 0.996907%Accuracy on training: 0.996907%Accuracy on training: 0.996907%Accuracy on training: 0.996907%Accuracy on training: 0.996907%\n",
      "False positive: 13\n",
      "True positive: 8843\n",
      "False negative: 37\n",
      "True negative: 7274\n",
      "False Negative Rate: 0.416667%\n"
     ]
    }
   ],
   "source": [
    "from sklearn.neighbors import KNeighborsClassifier\n",
    "knn_clf = KNeighborsClassifier(n_neighbors=3)\n",
    "knn_clf.fit(X_train, y_train)\n",
    "y_test_predicted = knn_clf.predict(X_test).reshape(-1,1)\n",
    "print('Accuracy on testing: %f%%' % (model_evaluator.compute_accuracy(y_test, y_test_predicted))*100)\n",
    "y_train_predicted = knn_clf.predict(X_train).reshape(-1,1)\n",
    "print('Accuracy on training: %f%%' % (model_evaluator.compute_accuracy(y_train, y_train_predicted))*100)\n",
    "model_evaluator.compute_scores(y_train, y_train_predicted)"
   ]
  },
  {
   "cell_type": "code",
   "execution_count": 5,
   "id": "a9fa6b66",
   "metadata": {},
   "outputs": [
    {
     "data": {
      "text/plain": [
       "array([0.99506173, 0.99753086, 0.98514851, 0.99257426, 0.99257426,\n",
       "       0.98514851, 0.99257426, 0.9950495 , 0.98019802, 0.99257426])"
      ]
     },
     "execution_count": 5,
     "metadata": {},
     "output_type": "execute_result"
    }
   ],
   "source": [
    "model_evaluator.kfold_cross_validation(knn_clf, X_test, y_test, 10)"
   ]
  }
 ],
 "metadata": {
  "kernelspec": {
   "display_name": "Python 3.8.13 ('malis')",
   "language": "python",
   "name": "python3"
  },
  "language_info": {
   "codemirror_mode": {
    "name": "ipython",
    "version": 3
   },
   "file_extension": ".py",
   "mimetype": "text/x-python",
   "name": "python",
   "nbconvert_exporter": "python",
   "pygments_lexer": "ipython3",
   "version": "3.8.13"
  },
  "vscode": {
   "interpreter": {
    "hash": "d97c278cc629c1c5be7dde8ca92fdbba5c29360d8f8314df257e0bc4e4b04dd5"
   }
  }
 },
 "nbformat": 4,
 "nbformat_minor": 5
}
