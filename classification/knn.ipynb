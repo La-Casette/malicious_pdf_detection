{
 "cells": [
  {
   "cell_type": "markdown",
   "id": "404da8fa-ea8f-44e4-aa79-fe2732ad8fb1",
   "metadata": {},
   "source": [
    "# KNN"
   ]
  },
  {
   "cell_type": "code",
   "execution_count": 1,
   "id": "a5efb102-e76b-4392-acec-2ba4d9be7e37",
   "metadata": {},
   "outputs": [],
   "source": [
    "import numpy as np\n",
    "import pandas as pd\n",
    "from sklearn.neighbors import KNeighborsClassifier\n",
    "import sklearn.metrics as metrics\n",
    "import model_evaluator\n",
    "import data_import"
   ]
  },
  {
   "cell_type": "code",
   "execution_count": 2,
   "id": "70677b6b",
   "metadata": {},
   "outputs": [],
   "source": [
    "# Import data\n",
    "X_tot, df_tot, X_train, X_test, y_train, y_test = data_import.import_data_train_test()"
   ]
  },
  {
   "cell_type": "code",
   "execution_count": 3,
   "id": "e60441af-5c3d-41ec-8616-d898c3c2bf99",
   "metadata": {},
   "outputs": [
    {
     "name": "stderr",
     "output_type": "stream",
     "text": [
      "/Users/mattiarosso/opt/anaconda3/envs/malis/lib/python3.8/site-packages/sklearn/neighbors/_classification.py:207: DataConversionWarning: A column-vector y was passed when a 1d array was expected. Please change the shape of y to (n_samples,), for example using ravel().\n",
      "  return self._fit(X, y)\n"
     ]
    },
    {
     "name": "stdout",
     "output_type": "stream",
     "text": [
      "Accuracy on testing: 99.529936%\n",
      "Accuracy on training: 99.690728%\n"
     ]
    }
   ],
   "source": [
    "from sklearn.neighbors import KNeighborsClassifier\n",
    "knn_clf = KNeighborsClassifier(n_neighbors=3)\n",
    "knn_clf.fit(X_train, y_train)\n",
    "y_test_predicted = knn_clf.predict(X_test).reshape(-1,1)\n",
    "print('Accuracy on testing: %f%%' % (model_evaluator.compute_accuracy(y_test, y_test_predicted)*100))\n",
    "y_train_predicted = knn_clf.predict(X_train).reshape(-1,1)\n",
    "print('Accuracy on training: %f%%' % (model_evaluator.compute_accuracy(y_train, y_train_predicted)*100))"
   ]
  },
  {
   "cell_type": "code",
   "execution_count": 4,
   "id": "a9fa6b66",
   "metadata": {},
   "outputs": [
    {
     "data": {
      "text/plain": [
       "array([0.99536178, 0.99443414, 0.9938138 , 0.9938138 , 0.99257655])"
      ]
     },
     "execution_count": 4,
     "metadata": {},
     "output_type": "execute_result"
    }
   ],
   "source": [
    "kfold_scores_accuracy = model_evaluator.kfold_cross_validation(knn_clf, X_train, y_train, k=5, scoring='accuracy')\n",
    "kfold_scores_accuracy"
   ]
  },
  {
   "cell_type": "code",
   "execution_count": 6,
   "id": "7d919fb7",
   "metadata": {},
   "outputs": [
    {
     "data": {
      "text/plain": [
       "array([0.99253225, 0.99189737, 0.98710115, 0.98789509, 0.98675035])"
      ]
     },
     "execution_count": 6,
     "metadata": {},
     "output_type": "execute_result"
    }
   ],
   "source": [
    "kfold_scores_npv = model_evaluator.kfold_cross_validation(knn_clf, X_train, y_train, k=5, scoring='precision')\n",
    "kfold_scores_npv"
   ]
  },
  {
   "cell_type": "code",
   "execution_count": null,
   "id": "dbaebef6",
   "metadata": {},
   "outputs": [],
   "source": []
  }
 ],
 "metadata": {
  "kernelspec": {
   "display_name": "Python 3.8.13 ('malis')",
   "language": "python",
   "name": "python3"
  },
  "language_info": {
   "codemirror_mode": {
    "name": "ipython",
    "version": 3
   },
   "file_extension": ".py",
   "mimetype": "text/x-python",
   "name": "python",
   "nbconvert_exporter": "python",
   "pygments_lexer": "ipython3",
   "version": "3.8.13"
  },
  "vscode": {
   "interpreter": {
    "hash": "d97c278cc629c1c5be7dde8ca92fdbba5c29360d8f8314df257e0bc4e4b04dd5"
   }
  }
 },
 "nbformat": 4,
 "nbformat_minor": 5
}
