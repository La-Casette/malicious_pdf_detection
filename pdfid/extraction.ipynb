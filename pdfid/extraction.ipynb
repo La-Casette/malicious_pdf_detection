{
 "cells": [
  {
   "cell_type": "markdown",
   "id": "5cbcbb0b-3188-449a-9952-f8160988d706",
   "metadata": {},
   "source": [
    "# Extraction"
   ]
  },
  {
   "cell_type": "code",
   "execution_count": 1,
   "id": "afbff0e7-6a27-432d-a464-450903b1ee73",
   "metadata": {},
   "outputs": [
    {
     "name": "stdout",
     "output_type": "stream",
     "text": [
      "Analysis is started...\n",
      "Produced result_clean_pdf_100_embed_video.csv\n",
      "Produced result_malware_pdf_cve_sorted_173_files.csv\n",
      "Produced result_clean_pdf_9000_files.csv\n",
      "Produced result_malware_pdf_pre_04-2011_10982_files.csv\n",
      "...analysis is finished\n"
     ]
    }
   ],
   "source": [
    "from extraction import *\n",
    "import os\n",
    "import pandas as pd\n",
    "import numpy as np\n",
    "\n",
    "print(\"Analysis is started...\")\n",
    "directories = [\"../pdf_data/clean_pdf_100_embed_video/\", \"../pdf_data/malware_pdf_cve_sorted_173_files/\", \"../pdf_data/clean_pdf_9000_files/\", \"../pdf_data/malware_pdf_pre_04-2011_10982_files/\"]\n",
    "for dire in directories:\n",
    "    file_name = \"../data/result_\" + os.path.basename(dire[:len(dire)-1]) + \".csv\"\n",
    "    mat = dir_analysis(dire)\n",
    "    data = np.array(mat)\n",
    "    print(\"Produced \" + str(file_name))\n",
    "    df = pd.DataFrame(data=data, columns=[\"obj\", \"endobj\", \"stream\", \"endstream\", \"xref\", \"trailer\", \"startxref\", \"/Page\", \"/Encrypt\", \"/ObjStm\", \"/JS\", \"/JavaScript\", \"/AA\", \"/OpenAction\", \"/AcroForm\", \"/JBIG2Decode\", \"/RichMedia\", \"/Launch\", \"/EmbeddedFile\", \"/XFA\", \"/Colors > 2^24\"])\n",
    "    df.to_csv(file_name, index = False)\n",
    "    \n",
    "print(\"...analysis is finished\")"
   ]
  },
  {
   "cell_type": "code",
   "execution_count": null,
   "id": "e9901ce6-433c-4766-b031-a1d8b3d976ae",
   "metadata": {},
   "outputs": [],
   "source": []
  }
 ],
 "metadata": {
  "kernelspec": {
   "display_name": "Python 3 (ipykernel)",
   "language": "python",
   "name": "python3"
  },
  "language_info": {
   "codemirror_mode": {
    "name": "ipython",
    "version": 3
   },
   "file_extension": ".py",
   "mimetype": "text/x-python",
   "name": "python",
   "nbconvert_exporter": "python",
   "pygments_lexer": "ipython3",
   "version": "3.8.13"
  }
 },
 "nbformat": 4,
 "nbformat_minor": 5
}
