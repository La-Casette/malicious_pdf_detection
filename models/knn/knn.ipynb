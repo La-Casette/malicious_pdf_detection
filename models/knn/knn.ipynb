{
 "cells": [
  {
   "cell_type": "markdown",
   "id": "404da8fa-ea8f-44e4-aa79-fe2732ad8fb1",
   "metadata": {},
   "source": [
    "# KNN"
   ]
  },
  {
   "cell_type": "code",
   "execution_count": 2,
   "id": "a5efb102-e76b-4392-acec-2ba4d9be7e37",
   "metadata": {},
   "outputs": [],
   "source": [
    "import numpy as np\n",
    "import pandas as pd\n",
    "from sklearn.neighbors import KNeighborsClassifier\n",
    "import sklearn.metrics as metrics\n",
    "import model_evaluator\n",
    "import data_import\n",
    "from data_preprocessing import KMeansDimensionalityReduction"
   ]
  },
  {
   "cell_type": "code",
   "execution_count": 3,
   "id": "70677b6b",
   "metadata": {},
   "outputs": [],
   "source": [
    "# Import data from Contagio dataset\n",
    "X_tot, df_tot, X_train, X_test, y_train, y_test = data_import.import_data_train_test('Contagio')"
   ]
  },
  {
   "cell_type": "code",
   "execution_count": 4,
   "id": "55ab6dbd",
   "metadata": {},
   "outputs": [],
   "source": [
    "KMDimRed = KMeansDimensionalityReduction(df_tot)\n",
    "df_tot_km, X_tot_km, X_train_km = KMDimRed.fit_ben_mal_kmeans(df_tot, X_tot, X_train)\n",
    "X_test_km = KMDimRed.transform_ben_mal_kmeans(X_test)"
   ]
  },
  {
   "cell_type": "code",
   "execution_count": 5,
   "id": "e60441af-5c3d-41ec-8616-d898c3c2bf99",
   "metadata": {},
   "outputs": [
    {
     "name": "stdout",
     "output_type": "stream",
     "text": [
      "Accuracy on testing: 99.529936%\n",
      "Accuracy on training: 99.690728%\n",
      "f1-score on testing: 99.571590%\n",
      "False positives: 7\n"
     ]
    }
   ],
   "source": [
    "# Original data\n",
    "from sklearn.neighbors import KNeighborsClassifier\n",
    "import model_evaluator\n",
    "knn_clf = KNeighborsClassifier(n_neighbors=3)\n",
    "knn_clf.fit(X_train, y_train)\n",
    "y_test_predicted = knn_clf.predict(X_test).reshape(-1,1)\n",
    "print('Accuracy on testing: %f%%' % (model_evaluator.compute_accuracy(y_test, y_test_predicted)*100))\n",
    "y_train_predicted = knn_clf.predict(X_train).reshape(-1,1)\n",
    "print('Accuracy on training: %f%%' % (model_evaluator.compute_accuracy(y_train, y_train_predicted)*100))\n",
    "print('f1-score on testing: %f%%' % (model_evaluator.compute_f1_score(y_test, y_test_predicted)*100))\n",
    "print('False positives: %d' % (model_evaluator.get_false_positive(y_test, y_test_predicted)))"
   ]
  },
  {
   "cell_type": "code",
   "execution_count": 25,
   "id": "cfbfe6eb",
   "metadata": {},
   "outputs": [
    {
     "name": "stdout",
     "output_type": "stream",
     "text": [
      "Accuracy on testing: 99.406235%\n",
      "Accuracy on training: 99.449496%\n",
      "f1-score on testing: 99.457505%\n",
      "False positives: 4\n"
     ]
    }
   ],
   "source": [
    "# KMeans dimensionality reduction\n",
    "from sklearn.neighbors import KNeighborsClassifier\n",
    "import model_evaluator\n",
    "knn_clf = KNeighborsClassifier(n_neighbors=5)\n",
    "knn_clf.fit(X_train_km, y_train)\n",
    "y_test_predicted = knn_clf.predict(X_test_km).reshape(-1,1)\n",
    "print('Accuracy on testing: %f%%' % (model_evaluator.compute_accuracy(y_test, y_test_predicted)*100))\n",
    "y_train_predicted = knn_clf.predict(X_train_km).reshape(-1,1)\n",
    "print('Accuracy on training: %f%%' % (model_evaluator.compute_accuracy(y_train, y_train_predicted)*100))\n",
    "print('f1-score on testing: %f%%' % (model_evaluator.compute_f1_score(y_test, y_test_predicted)*100))\n",
    "print('False positives: %d' % (model_evaluator.get_false_positive(y_test, y_test_predicted)))"
   ]
  },
  {
   "cell_type": "code",
   "execution_count": 7,
   "id": "a9fa6b66",
   "metadata": {},
   "outputs": [
    {
     "data": {
      "text/plain": [
       "array([0.99536178, 0.99443414, 0.9938138 , 0.9938138 , 0.99257655])"
      ]
     },
     "execution_count": 7,
     "metadata": {},
     "output_type": "execute_result"
    }
   ],
   "source": [
    "kfold_scores_accuracy = model_evaluator.kfold_cross_validation(knn_clf, X_train, y_train, k=5, scoring='accuracy')\n",
    "kfold_scores_accuracy"
   ]
  },
  {
   "cell_type": "code",
   "execution_count": 8,
   "id": "7d919fb7",
   "metadata": {},
   "outputs": [
    {
     "data": {
      "text/plain": [
       "array([0.99253225, 0.99189737, 0.98710115, 0.98789509, 0.98675035])"
      ]
     },
     "execution_count": 8,
     "metadata": {},
     "output_type": "execute_result"
    }
   ],
   "source": [
    "kfold_scores_npv = model_evaluator.kfold_cross_validation(knn_clf, X_train, y_train, k=5, scoring='precision')\n",
    "kfold_scores_npv"
   ]
  },
  {
   "cell_type": "code",
   "execution_count": 17,
   "id": "dbaebef6",
   "metadata": {},
   "outputs": [
    {
     "name": "stdout",
     "output_type": "stream",
     "text": [
      "i=1\n",
      "[0.99727149 0.99390657 0.98977505 0.98989899 0.9922807 ]\n",
      "mean= 0.9926265594367933\n",
      "i=2\n",
      "[0.99253731 0.99123399 0.98643148 0.98791135 0.98675958]\n",
      "mean= 0.9889747418695256\n",
      "i=3\n",
      "[0.99253225 0.99189737 0.98710115 0.98789509 0.98675035]\n",
      "mean= 0.9892352414656017\n",
      "i=4\n",
      "[0.99254743 0.98725687 0.98577236 0.98592493 0.98607242]\n",
      "mean= 0.98751480283057\n",
      "i=5\n",
      "[0.99252717 0.98725687 0.98641304 0.98724832 0.98743017]\n",
      "mean= 0.9881751163435079\n",
      "i=6\n",
      "[0.98784605 0.98725687 0.98440678 0.98460509 0.98467967]\n",
      "mean= 0.9857588913921923\n",
      "i=7\n",
      "[0.98784605 0.98724832 0.98574338 0.98525469 0.98467967]\n",
      "mean= 0.9861544220792913\n",
      "i=8\n",
      "[0.98322148 0.98460509 0.98507463 0.98327759 0.98263889]\n",
      "mean= 0.9837635342505194\n",
      "i=9\n",
      "[0.98384926 0.98657718 0.98507463 0.98393574 0.98332175]\n",
      "mean= 0.9845517124038947\n"
     ]
    }
   ],
   "source": [
    "for i in range(1,10):\n",
    "    knn_clf = KNeighborsClassifier(n_neighbors=i)\n",
    "    kfold_scores_npv = model_evaluator.kfold_cross_validation(knn_clf, X_train, y_train, k=5, scoring='precision')\n",
    "    print(\"i=\" + str(i))\n",
    "    print(kfold_scores_npv);\n",
    "    kfold_scores_npv_avg=np.mean(kfold_scores_npv)\n",
    "    print(\"mean=\", kfold_scores_npv_avg);"
   ]
  },
  {
   "cell_type": "code",
   "execution_count": 18,
   "id": "f3e8909c-3cff-4807-a949-84b5f3c56337",
   "metadata": {},
   "outputs": [
    {
     "name": "stdout",
     "output_type": "stream",
     "text": [
      "best mean cross-validation score: 0.992\n",
      "best parameters: {'n_neighbors': 1}\n"
     ]
    }
   ],
   "source": [
    "# Automatic grid search\n",
    "from sklearn.model_selection import GridSearchCV\n",
    "parameters = {'n_neighbors': np.arange(1,10,2)}\n",
    "grid = GridSearchCV(knn_clf, param_grid=parameters, \n",
    "                    scoring=metrics.make_scorer(metrics.precision_score, pos_label=0), cv=5)\n",
    "grid.fit(X_train, y_train.ravel())\n",
    "\n",
    "print(\"best mean cross-validation score: {:.3f}\".format(grid.best_score_))\n",
    "print(\"best parameters:\", grid.best_params_)"
   ]
  },
  {
   "cell_type": "code",
   "execution_count": 27,
   "id": "9df602d3-4433-4c3a-8b65-480407bc806d",
   "metadata": {},
   "outputs": [
    {
     "name": "stdout",
     "output_type": "stream",
     "text": [
      "best mean cross-validation score: 0.995\n",
      "best parameters: {'n_neighbors': 1}\n"
     ]
    }
   ],
   "source": [
    "# Automatic grid search\n",
    "from sklearn.model_selection import GridSearchCV\n",
    "parameters = {'n_neighbors': np.arange(1,10,2)}\n",
    "grid = GridSearchCV(knn_clf, param_grid=parameters, \n",
    "                    scoring=metrics.make_scorer(metrics.f1_score, pos_label=0), cv=5)\n",
    "grid.fit(X_train, y_train.ravel())\n",
    "\n",
    "print(\"best mean cross-validation score: {:.3f}\".format(grid.best_score_))\n",
    "print(\"best parameters:\", grid.best_params_)"
   ]
  },
  {
   "cell_type": "code",
   "execution_count": null,
   "id": "d67946af-7138-489a-91f5-5ef3980d8655",
   "metadata": {},
   "outputs": [],
   "source": []
  }
 ],
 "metadata": {
  "kernelspec": {
   "display_name": "Python 3 (ipykernel)",
   "language": "python",
   "name": "python3"
  },
  "language_info": {
   "codemirror_mode": {
    "name": "ipython",
    "version": 3
   },
   "file_extension": ".py",
   "mimetype": "text/x-python",
   "name": "python",
   "nbconvert_exporter": "python",
   "pygments_lexer": "ipython3",
   "version": "3.9.12"
  },
  "vscode": {
   "interpreter": {
    "hash": "d97c278cc629c1c5be7dde8ca92fdbba5c29360d8f8314df257e0bc4e4b04dd5"
   }
  }
 },
 "nbformat": 4,
 "nbformat_minor": 5
}
