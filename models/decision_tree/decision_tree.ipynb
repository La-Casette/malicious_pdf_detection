{
 "cells": [
  {
   "cell_type": "markdown",
   "id": "1d367baf-3159-4748-98fa-38e48167c3ae",
   "metadata": {},
   "source": [
    "# Decision tree"
   ]
  },
  {
   "cell_type": "code",
   "execution_count": 1,
   "id": "2db3dca5-b769-43c2-a9df-461404504a03",
   "metadata": {},
   "outputs": [],
   "source": [
    "import importlib.machinery\n",
    "\n",
    "loader = importlib.machinery.SourceFileLoader(\"data_import\", \"../../utils/data_import.py\")\n",
    "data_import = loader.load_module()\n",
    "\n",
    "loader = importlib.machinery.SourceFileLoader(\"model_evaluator\", \"../../utils/model_evaluator.py\")\n",
    "model_evaluator = loader.load_module()\n",
    "\n",
    "import numpy as np\n",
    "import pandas as pd\n",
    "from model_evaluator import metrics_function\n",
    "import plotly.express as px"
   ]
  },
  {
   "cell_type": "code",
   "execution_count": 2,
   "id": "fbecc6c4-c9f7-4515-b815-8338dac8d178",
   "metadata": {},
   "outputs": [],
   "source": [
    "from sklearn.tree import DecisionTreeClassifier\n",
    "from sklearn import tree\n",
    "from matplotlib import pyplot as plt\n",
    "\n",
    "from sklearn.model_selection import train_test_split"
   ]
  },
  {
   "cell_type": "code",
   "execution_count": 3,
   "id": "da829a83-62cf-4291-92eb-d9da3ace3d14",
   "metadata": {},
   "outputs": [],
   "source": [
    "import matplotlib.pyplot as plt"
   ]
  },
  {
   "cell_type": "code",
   "execution_count": 4,
   "id": "6973ee82-cb08-4e0c-a71b-bc020678f53b",
   "metadata": {},
   "outputs": [],
   "source": [
    "# Import data\n",
    "X_tot, df_tot, X_train, X_test, y_train, y_test = data_import.import_data_train_test(\"Contagio\")"
   ]
  },
  {
   "cell_type": "code",
   "execution_count": 5,
   "id": "4c11d303-e6b5-4d0b-8c14-e4f2366b4519",
   "metadata": {},
   "outputs": [],
   "source": [
    "X_mal = np.copy(X_train[y_train==1])\n",
    "y_mal = np.ones(X_mal.shape[0])"
   ]
  },
  {
   "cell_type": "markdown",
   "id": "495c0490-09c2-4fec-a2a9-49eb3fe8c65a",
   "metadata": {},
   "source": [
    "## Testing *random_state*"
   ]
  },
  {
   "cell_type": "markdown",
   "id": "4c979ed6-4af0-483e-9adc-de14c30f8248",
   "metadata": {},
   "source": [
    "Test to determine the best value for *random_state* parameter"
   ]
  },
  {
   "cell_type": "code",
   "execution_count": 6,
   "id": "b439953c-c31e-4fc5-8b2c-f502396e9ff2",
   "metadata": {},
   "outputs": [
    {
     "name": "stdout",
     "output_type": "stream",
     "text": [
      "acc: 0.9973549146821374\n",
      "fnr: 0.0021396396396396395\n"
     ]
    }
   ],
   "source": [
    "clf = DecisionTreeClassifier(random_state=0)\n",
    "kfold_scores_npv = model_evaluator.kfold_cross_validation(clf, X_train, y_train, k=5)\n",
    "print(\"acc:\", sum(kfold_scores_npv['test_f1_score'])/5)\n",
    "print(\"fnr:\", sum(kfold_scores_npv['test_false_neg'])/5)"
   ]
  },
  {
   "cell_type": "code",
   "execution_count": 7,
   "id": "802ccbcd-31ec-4743-971a-77130d88477c",
   "metadata": {},
   "outputs": [
    {
     "name": "stdout",
     "output_type": "stream",
     "text": [
      "acc: 0.9974671476308092\n",
      "fnr: 0.0021396396396396395\n"
     ]
    }
   ],
   "source": [
    "clf = DecisionTreeClassifier()\n",
    "kfold_scores_npv = model_evaluator.kfold_cross_validation(clf, X_train, y_train, k=5)\n",
    "print(\"acc:\", sum(kfold_scores_npv['test_f1_score'])/5)\n",
    "print(\"fnr:\", sum(kfold_scores_npv['test_false_neg'])/5)"
   ]
  },
  {
   "cell_type": "markdown",
   "id": "2617feac-1a95-4062-8baa-cb1f175f94a0",
   "metadata": {},
   "source": [
    "With random_state=0 is better"
   ]
  },
  {
   "cell_type": "markdown",
   "id": "87072631-095d-485e-bab9-30217e1da352",
   "metadata": {},
   "source": [
    "## Testing *criterion*"
   ]
  },
  {
   "cell_type": "markdown",
   "id": "c4247051-9b15-4d48-859b-27247a2889a0",
   "metadata": {},
   "source": [
    "Test to determine the best value for *criterion* parameter"
   ]
  },
  {
   "cell_type": "code",
   "execution_count": 13,
   "id": "2e074167-f979-4228-a294-aaed272bc8e4",
   "metadata": {},
   "outputs": [
    {
     "name": "stdout",
     "output_type": "stream",
     "text": [
      "Criterion: gini\n",
      "acc: 0.9973549146821374\n",
      "fnr: 0.0021396396396396395\n",
      "-----------------\n",
      "Criterion: entropy\n",
      "acc: 0.9974665789860824\n",
      "fnr: 0.0024774774774774773\n",
      "-----------------\n",
      "Criterion: log_loss\n",
      "acc: 0.9974665789860824\n",
      "fnr: 0.0024774774774774773\n",
      "-----------------\n"
     ]
    }
   ],
   "source": [
    "for crit in [\"gini\", \"entropy\", \"log_loss\"]:\n",
    "    clf = DecisionTreeClassifier(random_state=0, criterion=crit)\n",
    "    kfold_scores_npv = model_evaluator.kfold_cross_validation(clf, X_train, y_train, k=5)\n",
    "    print(\"Criterion: \" + crit)\n",
    "    print(\"acc:\", sum(kfold_scores_npv['test_f1_score'])/5)\n",
    "    print(\"fnr:\", sum(kfold_scores_npv['test_false_neg'])/5)\n",
    "    print(\"-----------------\")"
   ]
  },
  {
   "cell_type": "markdown",
   "id": "af9aa5df-d96c-40ef-969b-f8024fe4bb2d",
   "metadata": {},
   "source": [
    "Gini is the better for `false negative rate`, but the other two are better for `accuracy`. Gini is choosen"
   ]
  },
  {
   "cell_type": "markdown",
   "id": "8143f704-2c55-457a-a2fa-cfe7a9e6b488",
   "metadata": {},
   "source": [
    "## Testing *splitter*"
   ]
  },
  {
   "cell_type": "markdown",
   "id": "7f7148a3-8cd7-48e2-9603-da5de8eaa73d",
   "metadata": {},
   "source": [
    "Test to determine the best value for *splitter* parameter"
   ]
  },
  {
   "cell_type": "code",
   "execution_count": 15,
   "id": "09f12c6b-7e78-4ce6-9307-b592b7b0a4fc",
   "metadata": {},
   "outputs": [
    {
     "name": "stdout",
     "output_type": "stream",
     "text": [
      "Splitter: best\n",
      "acc: 0.9973549146821374\n",
      "fnr: 0.0021396396396396395\n",
      "-----------------\n",
      "Splitter: random\n",
      "acc: 0.996904594075507\n",
      "fnr: 0.002702702702702703\n",
      "-----------------\n"
     ]
    }
   ],
   "source": [
    "for spli in [\"best\", \"random\"]:\n",
    "    clf = DecisionTreeClassifier(random_state=0, splitter=spli)\n",
    "    kfold_scores_npv = model_evaluator.kfold_cross_validation(clf, X_train, y_train, k=5)\n",
    "    print(\"Splitter: \" + spli)\n",
    "    print(\"acc:\", sum(kfold_scores_npv['test_f1_score'])/5)\n",
    "    print(\"fnr:\", sum(kfold_scores_npv['test_false_neg'])/5)\n",
    "    print(\"-----------------\")"
   ]
  },
  {
   "cell_type": "markdown",
   "id": "b9ee763b-b8e8-4fdc-95a9-8d8945b0815e",
   "metadata": {},
   "source": [
    "Best is choosen"
   ]
  },
  {
   "cell_type": "markdown",
   "id": "ccd33b4e-a189-4d8a-b451-44ecb98f9e8d",
   "metadata": {},
   "source": [
    "## Testing *max_depth*"
   ]
  },
  {
   "cell_type": "markdown",
   "id": "67b5dbdf-397e-46ed-9a40-570a5ebf17e9",
   "metadata": {},
   "source": [
    "Test to determine the best value for *max_depth* parameter"
   ]
  },
  {
   "cell_type": "code",
   "execution_count": 16,
   "id": "720e58e2-4b18-4009-9110-f915be295d06",
   "metadata": {},
   "outputs": [],
   "source": [
    "fn = []\n",
    "acc = []\n",
    "k=5\n",
    "for m in range(2,20,1):\n",
    "    clf = DecisionTreeClassifier(random_state=0, max_depth=m)\n",
    "    \n",
    "    kfold_scores_npv = model_evaluator.kfold_cross_validation(clf, X_train, y_train, k=k)\n",
    "    \n",
    "    acc.append(sum(kfold_scores_npv['test_accuracy_score'])/k)\n",
    "    fn.append(sum(kfold_scores_npv['test_false_neg'])/k)"
   ]
  },
  {
   "cell_type": "markdown",
   "id": "bfc710b3-4855-45c2-9206-4432be8b4b7a",
   "metadata": {},
   "source": [
    "Printing `accuracy` and `false negative rate` on *trainig set* for different *max_depth*"
   ]
  },
  {
   "cell_type": "code",
   "execution_count": 43,
   "id": "50787608-096d-498d-bbb2-80be111cf7c4",
   "metadata": {},
   "outputs": [
    {
     "data": {
      "image/png": "[encoded data removed]",
      "text/plain": [
       "<Figure size 1500x500 with 2 Axes>"
      ]
     },
     "metadata": {},
     "output_type": "display_data"
    }
   ],
   "source": [
    "import seaborn as sns\n",
    "x = np.arange(2, 20, 1)\n",
    "fig, axes = plt.subplots(1, 2, figsize=(15, 5), sharex=True)\n",
    "g_acc_2 = sns.lineplot(ax=axes[0], x=x, y=acc, marker=\"o\", errorbar=None, legend=True, color='green')\n",
    "g_fnr_2 = sns.lineplot(ax=axes[1], x=x, y=fn, marker=\"o\", errorbar=None, legend=True, color='skyblue')\n",
    "axes[0].set_xlabel('max_depth')\n",
    "axes[0].set_ylabel('accuracy')\n",
    "axes[1].set_xlabel('max_depth')\n",
    "axes[1].set_ylabel('fnr')\n",
    "\n",
    "axes[1].set_xticks(x)\n",
    "axes[1].set_xticks(x)\n",
    "\n",
    "plt.show()"
   ]
  },
  {
   "cell_type": "markdown",
   "id": "05432ae3-64b3-454c-9620-080f2400ed88",
   "metadata": {},
   "source": [
    "Best *max_depth*: 15"
   ]
  },
  {
   "cell_type": "code",
   "execution_count": 49,
   "id": "98c546b1-92ee-4a08-bbe2-225350a6f935",
   "metadata": {},
   "outputs": [
    {
     "name": "stdout",
     "output_type": "stream",
     "text": [
      "Depth  2\n",
      "Accuracy:  0.9917731510679237\n",
      "False neg:  0.010923423423423423\n",
      "Depth  3\n",
      "Accuracy:  0.9943091698338925\n",
      "False neg:  0.00731981981981982\n",
      "Depth  4\n",
      "Accuracy:  0.9948659665198927\n",
      "False neg:  0.0060810810810810806\n",
      "Depth  5\n",
      "Accuracy:  0.9962267402813556\n",
      "False neg:  0.0045045045045045045\n",
      "Depth  6\n",
      "Accuracy:  0.9965360505195244\n",
      "False neg:  0.004054054054054054\n",
      "Depth  7\n",
      "Accuracy:  0.9967216557910739\n",
      "False neg:  0.0037162162162162156\n",
      "Depth  8\n",
      "Accuracy:  0.9970309469005947\n",
      "False neg:  0.0033783783783783786\n",
      "Depth  9\n",
      "Accuracy:  0.9974021191863974\n",
      "False neg:  0.002815315315315315\n",
      "Depth  10\n",
      "Accuracy:  0.9972783950911298\n",
      "False neg:  0.00259009009009009\n",
      "Depth  11\n",
      "Accuracy:  0.9972783568338338\n",
      "False neg:  0.0024774774774774773\n",
      "Depth  12\n",
      "Accuracy:  0.9973402188814676\n",
      "False neg:  0.0023648648648648646\n",
      "Depth  13\n",
      "Accuracy:  0.9971547092531582\n",
      "False neg:  0.002364864864864865\n",
      "Depth  14\n",
      "Accuracy:  0.9970309469005947\n",
      "False neg:  0.0023648648648648646\n",
      "Depth  15\n",
      "Accuracy:  0.997216552172144\n",
      "False neg:  0.0021396396396396395\n",
      "Depth  16\n",
      "Accuracy:  0.997216513914848\n",
      "False neg:  0.0022522522522522522\n",
      "Depth  17\n",
      "Accuracy:  0.9970927898195804\n",
      "False neg:  0.0021396396396396395\n",
      "Depth  18\n",
      "Accuracy:  0.9970927898195804\n",
      "False neg:  0.0021396396396396395\n",
      "Depth  19\n",
      "Accuracy:  0.9970927898195804\n",
      "False neg:  0.0021396396396396395\n"
     ]
    }
   ],
   "source": [
    "for i in range(0, 18):\n",
    "    print(\"Depth \",i+2)\n",
    "    print(\"Accuracy: \",acc[i])\n",
    "    print(\"False neg: \",fn[i])"
   ]
  },
  {
   "cell_type": "markdown",
   "id": "e67a997a-d9ab-4b5d-aa98-244dc70d8bb5",
   "metadata": {},
   "source": [
    "- 15 is the first best value of false rate\n",
    "- 9  is the first best value of accuracy"
   ]
  },
  {
   "cell_type": "markdown",
   "id": "5cd0f75f-966a-4514-ad43-e9dc7c16eb0f",
   "metadata": {},
   "source": [
    "## Final Testing"
   ]
  },
  {
   "cell_type": "code",
   "execution_count": 21,
   "id": "d027e862-7d60-49f4-a635-793ba327c466",
   "metadata": {},
   "outputs": [
    {
     "name": "stdout",
     "output_type": "stream",
     "text": [
      "Train score\n",
      "fnr:  0.0021396396396396395\n",
      "acc:  0.997216552172144\n",
      "\n",
      "Test score\n",
      "fnr:  0.0022522522522522522\n",
      "acc:  0.9975259772389906\n"
     ]
    }
   ],
   "source": [
    "clf = DecisionTreeClassifier(random_state=0, max_depth=15)\n",
    "kfold_scores_npv = model_evaluator.kfold_cross_validation(clf, X_train, y_train, k=5)\n",
    "\n",
    "print(\"Train score\")\n",
    "#print(\"f1: \",sum(kfold_scores_npv['test_f1_score'])/5)\n",
    "print(\"fnr: \",sum(kfold_scores_npv['test_false_neg'])/5)\n",
    "print(\"acc: \",sum(kfold_scores_npv['test_accuracy_score'])/5)\n",
    "\n",
    "clf.fit(X_train, y_train)\n",
    "y_pred = clf.predict(X_test)\n",
    "kfold_scores_npv = metrics_function(y_test, y_pred)\n",
    "print(\"\\nTest score\")\n",
    "#print(\"f1: \",kfold_scores_npv['f1_score'])\n",
    "print(\"fnr: \",kfold_scores_npv['false_neg'])\n",
    "print(\"acc: \",kfold_scores_npv['accuracy_score'])"
   ]
  },
  {
   "cell_type": "markdown",
   "id": "2f648fe6-c54f-4e57-a84b-ebcbb88b0ad2",
   "metadata": {},
   "source": [
    "## Evasion"
   ]
  },
  {
   "cell_type": "code",
   "execution_count": 24,
   "id": "e6c46fb6-a1fe-45f7-9060-9984825ad2c4",
   "metadata": {},
   "outputs": [],
   "source": [
    "column_names = [\"obj\", \"endobj\", \"stream\", \"endstream\", \"xref\", \"trailer\", \"startxref\", \"/Page\", \"/Encrypt\", \"/ObjStm\", \"/JS\", \"/JavaScript\", \"/AA\", \"/OpenAction\", \"/AcroForm\", \"/JBIG2Decode\", \"/RichMedia\", \"/Launch\", \"/EmbeddedFile\", \"/XFA\", \"/Colors\"]"
   ]
  },
  {
   "cell_type": "code",
   "execution_count": 13,
   "id": "ead8d222-2a70-46dc-8c98-43ca42ababcd",
   "metadata": {},
   "outputs": [
    {
     "data": {
      "text/html": [
       "<style>#sk-container-id-2 {color: black;background-color: white;}#sk-container-id-2 pre{padding: 0;}#sk-container-id-2 div.sk-toggleable {background-color: white;}#sk-container-id-2 label.sk-toggleable__label {cursor: pointer;display: block;width: 100%;margin-bottom: 0;padding: 0.3em;box-sizing: border-box;text-align: center;}#sk-container-id-2 label.sk-toggleable__label-arrow:before {content: \"▸\";float: left;margin-right: 0.25em;color: #696969;}#sk-container-id-2 label.sk-toggleable__label-arrow:hover:before {color: black;}#sk-container-id-2 div.sk-estimator:hover label.sk-toggleable__label-arrow:before {color: black;}#sk-container-id-2 div.sk-toggleable__content {max-height: 0;max-width: 0;overflow: hidden;text-align: left;background-color: #f0f8ff;}#sk-container-id-2 div.sk-toggleable__content pre {margin: 0.2em;color: black;border-radius: 0.25em;background-color: #f0f8ff;}#sk-container-id-2 input.sk-toggleable__control:checked~div.sk-toggleable__content {max-height: 200px;max-width: 100%;overflow: auto;}#sk-container-id-2 input.sk-toggleable__control:checked~label.sk-toggleable__label-arrow:before {content: \"▾\";}#sk-container-id-2 div.sk-estimator input.sk-toggleable__control:checked~label.sk-toggleable__label {background-color: #d4ebff;}#sk-container-id-2 div.sk-label input.sk-toggleable__control:checked~label.sk-toggleable__label {background-color: #d4ebff;}#sk-container-id-2 input.sk-hidden--visually {border: 0;clip: rect(1px 1px 1px 1px);clip: rect(1px, 1px, 1px, 1px);height: 1px;margin: -1px;overflow: hidden;padding: 0;position: absolute;width: 1px;}#sk-container-id-2 div.sk-estimator {font-family: monospace;background-color: #f0f8ff;border: 1px dotted black;border-radius: 0.25em;box-sizing: border-box;margin-bottom: 0.5em;}#sk-container-id-2 div.sk-estimator:hover {background-color: #d4ebff;}#sk-container-id-2 div.sk-parallel-item::after {content: \"\";width: 100%;border-bottom: 1px solid gray;flex-grow: 1;}#sk-container-id-2 div.sk-label:hover label.sk-toggleable__label {background-color: #d4ebff;}#sk-container-id-2 div.sk-serial::before {content: \"\";position: absolute;border-left: 1px solid gray;box-sizing: border-box;top: 0;bottom: 0;left: 50%;z-index: 0;}#sk-container-id-2 div.sk-serial {display: flex;flex-direction: column;align-items: center;background-color: white;padding-right: 0.2em;padding-left: 0.2em;position: relative;}#sk-container-id-2 div.sk-item {position: relative;z-index: 1;}#sk-container-id-2 div.sk-parallel {display: flex;align-items: stretch;justify-content: center;background-color: white;position: relative;}#sk-container-id-2 div.sk-item::before, #sk-container-id-2 div.sk-parallel-item::before {content: \"\";position: absolute;border-left: 1px solid gray;box-sizing: border-box;top: 0;bottom: 0;left: 50%;z-index: -1;}#sk-container-id-2 div.sk-parallel-item {display: flex;flex-direction: column;z-index: 1;position: relative;background-color: white;}#sk-container-id-2 div.sk-parallel-item:first-child::after {align-self: flex-end;width: 50%;}#sk-container-id-2 div.sk-parallel-item:last-child::after {align-self: flex-start;width: 50%;}#sk-container-id-2 div.sk-parallel-item:only-child::after {width: 0;}#sk-container-id-2 div.sk-dashed-wrapped {border: 1px dashed gray;margin: 0 0.4em 0.5em 0.4em;box-sizing: border-box;padding-bottom: 0.4em;background-color: white;}#sk-container-id-2 div.sk-label label {font-family: monospace;font-weight: bold;display: inline-block;line-height: 1.2em;}#sk-container-id-2 div.sk-label-container {text-align: center;}#sk-container-id-2 div.sk-container {/* jupyter's `normalize.less` sets `[hidden] { display: none; }` but bootstrap.min.css set `[hidden] { display: none !important; }` so we also need the `!important` here to be able to override the default hidden behavior on the sphinx rendered scikit-learn.org. See: https://github.com/scikit-learn/scikit-learn/issues/21755 */display: inline-block !important;position: relative;}#sk-container-id-2 div.sk-text-repr-fallback {display: none;}</style><div id=\"sk-container-id-2\" class=\"sk-top-container\"><div class=\"sk-text-repr-fallback\"><pre>DecisionTreeClassifier(max_depth=15, random_state=0)</pre><b>In a Jupyter environment, please rerun this cell to show the HTML representation or trust the notebook. <br />On GitHub, the HTML representation is unable to render, please try loading this page with nbviewer.org.</b></div><div class=\"sk-container\" hidden><div class=\"sk-item\"><div class=\"sk-estimator sk-toggleable\"><input class=\"sk-toggleable__control sk-hidden--visually\" id=\"sk-estimator-id-2\" type=\"checkbox\" checked><label for=\"sk-estimator-id-2\" class=\"sk-toggleable__label sk-toggleable__label-arrow\">DecisionTreeClassifier</label><div class=\"sk-toggleable__content\"><pre>DecisionTreeClassifier(max_depth=15, random_state=0)</pre></div></div></div></div></div>"
      ],
      "text/plain": [
       "DecisionTreeClassifier(max_depth=15, random_state=0)"
      ]
     },
     "execution_count": 13,
     "metadata": {},
     "output_type": "execute_result"
    }
   ],
   "source": [
    "clf = DecisionTreeClassifier(random_state=0, max_depth=15)\n",
    "clf.fit(X_train, y_train)"
   ]
  },
  {
   "cell_type": "markdown",
   "id": "1585293c-e805-4cbd-be95-9aef1340f064",
   "metadata": {},
   "source": [
    "Finding all the evadable pdfs of *training set*, and how many features are added complessively for all the evasions"
   ]
  },
  {
   "cell_type": "code",
   "execution_count": 33,
   "id": "2a5fdc02-f7fd-4f19-aea6-9ec8f1af62f6",
   "metadata": {},
   "outputs": [],
   "source": [
    "evaded=0\n",
    "count=0\n",
    "K = np.zeros(X_mal.shape[1])\n",
    "for x_mal in X_mal:\n",
    "    for dim in range(x_mal.shape[0]):\n",
    "        Y = np.copy(x_mal)\n",
    "        for i in range(1, 100):\n",
    "            Y[dim] = Y[dim] + 1\n",
    "            y_pred = clf.predict(Y.reshape(1,-1))\n",
    "\n",
    "            if y_pred != 1:\n",
    "                K[dim] += i\n",
    "                evaded = 1\n",
    "                break\n",
    "    if evaded:\n",
    "        count+=1\n",
    "        evaded=0\n",
    "K = K.astype(int)"
   ]
  },
  {
   "cell_type": "code",
   "execution_count": 34,
   "id": "c7f9e499-f2f2-4519-b21f-22ff27923f88",
   "metadata": {},
   "outputs": [
    {
     "name": "stdout",
     "output_type": "stream",
     "text": [
      "Evadable ratio:  0.9140765765765766\n"
     ]
    }
   ],
   "source": [
    "print(\"Evadable ratio: \", count/X_mal.shape[0])"
   ]
  },
  {
   "cell_type": "code",
   "execution_count": 35,
   "id": "db5384bd-237c-461a-a31b-4be0d977eee1",
   "metadata": {},
   "outputs": [
    {
     "data": {
      "image/png": "[encoded data removed]",
      "text/plain": [
       "<Figure size 640x480 with 1 Axes>"
      ]
     },
     "metadata": {},
     "output_type": "display_data"
    }
   ],
   "source": [
    "plt.bar(column_names, K)\n",
    "\n",
    "plt.ylabel('Frequency')\n",
    "\n",
    "plt.xticks([0, 1, 2, 3, 4, 5, 6, 7, 8, 9, 10, 11, 12, 13, 14, 15, 16, 17, 18, 19, 20], column_names, rotation=90)\n",
    "plt.yscale(\"log\")\n",
    "\n",
    "plt.show()"
   ]
  },
  {
   "cell_type": "markdown",
   "id": "c4508b43-2c35-462a-9e98-ab3f67293abe",
   "metadata": {},
   "source": [
    "## Countermeasures"
   ]
  },
  {
   "cell_type": "code",
   "execution_count": 6,
   "id": "7f773c0e-6318-4e79-85f6-c18b0552b785",
   "metadata": {},
   "outputs": [
    {
     "data": {
      "text/html": [
       "<style>#sk-container-id-1 {color: black;background-color: white;}#sk-container-id-1 pre{padding: 0;}#sk-container-id-1 div.sk-toggleable {background-color: white;}#sk-container-id-1 label.sk-toggleable__label {cursor: pointer;display: block;width: 100%;margin-bottom: 0;padding: 0.3em;box-sizing: border-box;text-align: center;}#sk-container-id-1 label.sk-toggleable__label-arrow:before {content: \"▸\";float: left;margin-right: 0.25em;color: #696969;}#sk-container-id-1 label.sk-toggleable__label-arrow:hover:before {color: black;}#sk-container-id-1 div.sk-estimator:hover label.sk-toggleable__label-arrow:before {color: black;}#sk-container-id-1 div.sk-toggleable__content {max-height: 0;max-width: 0;overflow: hidden;text-align: left;background-color: #f0f8ff;}#sk-container-id-1 div.sk-toggleable__content pre {margin: 0.2em;color: black;border-radius: 0.25em;background-color: #f0f8ff;}#sk-container-id-1 input.sk-toggleable__control:checked~div.sk-toggleable__content {max-height: 200px;max-width: 100%;overflow: auto;}#sk-container-id-1 input.sk-toggleable__control:checked~label.sk-toggleable__label-arrow:before {content: \"▾\";}#sk-container-id-1 div.sk-estimator input.sk-toggleable__control:checked~label.sk-toggleable__label {background-color: #d4ebff;}#sk-container-id-1 div.sk-label input.sk-toggleable__control:checked~label.sk-toggleable__label {background-color: #d4ebff;}#sk-container-id-1 input.sk-hidden--visually {border: 0;clip: rect(1px 1px 1px 1px);clip: rect(1px, 1px, 1px, 1px);height: 1px;margin: -1px;overflow: hidden;padding: 0;position: absolute;width: 1px;}#sk-container-id-1 div.sk-estimator {font-family: monospace;background-color: #f0f8ff;border: 1px dotted black;border-radius: 0.25em;box-sizing: border-box;margin-bottom: 0.5em;}#sk-container-id-1 div.sk-estimator:hover {background-color: #d4ebff;}#sk-container-id-1 div.sk-parallel-item::after {content: \"\";width: 100%;border-bottom: 1px solid gray;flex-grow: 1;}#sk-container-id-1 div.sk-label:hover label.sk-toggleable__label {background-color: #d4ebff;}#sk-container-id-1 div.sk-serial::before {content: \"\";position: absolute;border-left: 1px solid gray;box-sizing: border-box;top: 0;bottom: 0;left: 50%;z-index: 0;}#sk-container-id-1 div.sk-serial {display: flex;flex-direction: column;align-items: center;background-color: white;padding-right: 0.2em;padding-left: 0.2em;position: relative;}#sk-container-id-1 div.sk-item {position: relative;z-index: 1;}#sk-container-id-1 div.sk-parallel {display: flex;align-items: stretch;justify-content: center;background-color: white;position: relative;}#sk-container-id-1 div.sk-item::before, #sk-container-id-1 div.sk-parallel-item::before {content: \"\";position: absolute;border-left: 1px solid gray;box-sizing: border-box;top: 0;bottom: 0;left: 50%;z-index: -1;}#sk-container-id-1 div.sk-parallel-item {display: flex;flex-direction: column;z-index: 1;position: relative;background-color: white;}#sk-container-id-1 div.sk-parallel-item:first-child::after {align-self: flex-end;width: 50%;}#sk-container-id-1 div.sk-parallel-item:last-child::after {align-self: flex-start;width: 50%;}#sk-container-id-1 div.sk-parallel-item:only-child::after {width: 0;}#sk-container-id-1 div.sk-dashed-wrapped {border: 1px dashed gray;margin: 0 0.4em 0.5em 0.4em;box-sizing: border-box;padding-bottom: 0.4em;background-color: white;}#sk-container-id-1 div.sk-label label {font-family: monospace;font-weight: bold;display: inline-block;line-height: 1.2em;}#sk-container-id-1 div.sk-label-container {text-align: center;}#sk-container-id-1 div.sk-container {/* jupyter's `normalize.less` sets `[hidden] { display: none; }` but bootstrap.min.css set `[hidden] { display: none !important; }` so we also need the `!important` here to be able to override the default hidden behavior on the sphinx rendered scikit-learn.org. See: https://github.com/scikit-learn/scikit-learn/issues/21755 */display: inline-block !important;position: relative;}#sk-container-id-1 div.sk-text-repr-fallback {display: none;}</style><div id=\"sk-container-id-1\" class=\"sk-top-container\"><div class=\"sk-text-repr-fallback\"><pre>DecisionTreeClassifier(max_depth=15, random_state=0)</pre><b>In a Jupyter environment, please rerun this cell to show the HTML representation or trust the notebook. <br />On GitHub, the HTML representation is unable to render, please try loading this page with nbviewer.org.</b></div><div class=\"sk-container\" hidden><div class=\"sk-item\"><div class=\"sk-estimator sk-toggleable\"><input class=\"sk-toggleable__control sk-hidden--visually\" id=\"sk-estimator-id-1\" type=\"checkbox\" checked><label for=\"sk-estimator-id-1\" class=\"sk-toggleable__label sk-toggleable__label-arrow\">DecisionTreeClassifier</label><div class=\"sk-toggleable__content\"><pre>DecisionTreeClassifier(max_depth=15, random_state=0)</pre></div></div></div></div></div>"
      ],
      "text/plain": [
       "DecisionTreeClassifier(max_depth=15, random_state=0)"
      ]
     },
     "execution_count": 6,
     "metadata": {},
     "output_type": "execute_result"
    }
   ],
   "source": [
    "clf = DecisionTreeClassifier(random_state=0, max_depth=15)\n",
    "clf.fit(X_train, y_train)"
   ]
  },
  {
   "cell_type": "code",
   "execution_count": 7,
   "id": "4bebbc7f-cee2-458a-bf3e-5741674630ff",
   "metadata": {},
   "outputs": [
    {
     "name": "stdout",
     "output_type": "stream",
     "text": [
      "iteration 0 : 8880\n",
      "iteration 1 : 8106\n",
      "iteration 2 : 8106\n",
      "iteration 3 : 8807\n",
      "iteration 4 : 8113\n",
      "iteration 5 : 8074\n",
      "iteration 6 : 8088\n",
      "iteration 7 : 8089\n",
      "iteration 8 : 8850\n",
      "iteration 9 : 8843\n",
      "iteration 10 : 8863\n",
      "iteration 11 : 6980\n",
      "iteration 12 : 7349\n",
      "iteration 13 : 683\n",
      "iteration 14 : 666\n",
      "iteration 15 : 511\n",
      "iteration 16 : 8062\n",
      "iteration 17 : 110\n",
      "iteration 18 : 123\n",
      "iteration 19 : 81\n",
      "iteration 20 : 99\n",
      "iteration 21 : 69\n",
      "iteration 22 : 901\n",
      "iteration 23 : 594\n",
      "iteration 24 : 48\n",
      "iteration 25 : 61\n",
      "iteration 26 : 62\n",
      "iteration 27 : 31\n",
      "iteration 28 : 31\n",
      "iteration 29 : 34\n",
      "iteration 30 : 27\n",
      "iteration 31 : 18\n",
      "iteration 32 : 18\n",
      "iteration 33 : 18\n",
      "iteration 34 : 18\n",
      "iteration 35 : 22\n",
      "iteration 36 : 43\n",
      "iteration 37 : 42\n",
      "iteration 38 : 18\n",
      "iteration 39 : 49\n",
      "iteration 40 : 17\n",
      "iteration 41 : 10\n",
      "iteration 42 : 19\n",
      "iteration 43 : 18\n",
      "iteration 44 : 12\n",
      "iteration 45 : 7\n",
      "iteration 46 : 6\n",
      "iteration 47 : 4\n",
      "iteration 48 : 2\n",
      "iteration 49 : 7\n",
      "iteration 50 : 2\n",
      "iteration 51 : 2\n",
      "iteration 52 : 2\n",
      "iteration 53 : 3\n",
      "iteration 54 : 2\n",
      "iteration 55 : 8\n",
      "iteration 56 : 19\n",
      "iteration 57 : 9\n",
      "iteration 58 : 8\n",
      "iteration 59 : 8\n",
      "iteration 60 : 58\n",
      "iteration 61 : 10\n",
      "iteration 62 : 10\n",
      "iteration 63 : 10\n",
      "iteration 64 : 1\n",
      "iteration 65 : 1\n",
      "iteration 66 : 2\n",
      "iteration 67 : 1\n",
      "iteration 68 : 1\n",
      "iteration 69 : 0\n"
     ]
    }
   ],
   "source": [
    "X_train_improved = np.copy(X_train)\n",
    "y_train_improved = np.copy(y_train)\n",
    "bet_factor = X_mal.shape[0]\n",
    "print(\"iteration 0 :\", bet_factor)\n",
    "count=1\n",
    "fact = []\n",
    "fact.append(bet_factor)\n",
    "while True:\n",
    "    matrix = []\n",
    "    for x_mal in X_mal:\n",
    "        evaded=0\n",
    "        for dim in range(x_mal.shape[0]):\n",
    "            Y = np.copy(x_mal)\n",
    "            for i in range(1, 50):\n",
    "                Y[dim] = Y[dim] + 1\n",
    "                y_pred = clf.predict(Y.reshape(1,-1))\n",
    "                if y_pred != 1:\n",
    "                    Z = np.copy(Y)\n",
    "                    matrix.append(Z)\n",
    "                    evaded=1\n",
    "                    break\n",
    "            if evaded:\n",
    "                break\n",
    "    if len(matrix)==0:\n",
    "        print(\"iteration\", count, \": 0\")\n",
    "        count += 1\n",
    "        break\n",
    "    matrix = np.array(matrix)\n",
    "    \n",
    "    bet_factor = matrix.shape[0]\n",
    "    print(\"iteration\", count, \":\", bet_factor)\n",
    "    fact.append(bet_factor)\n",
    "    \n",
    "    X_train_improved = np.vstack((X_train_improved, matrix))\n",
    "    y_train_improved = np.concatenate((y_train_improved, np.ones(matrix.shape[0])))\n",
    "    \n",
    "    clf.fit(X_train_improved, y_train_improved)\n",
    "    count += 1"
   ]
  },
  {
   "cell_type": "code",
   "execution_count": 9,
   "id": "70ab7441-b348-49a9-ad3b-62fb3c3011cb",
   "metadata": {},
   "outputs": [
    {
     "data": {
      "image/png": "[encoded data removed]",
      "text/plain": [
       "<Figure size 640x480 with 1 Axes>"
      ]
     },
     "metadata": {},
     "output_type": "display_data"
    }
   ],
   "source": [
    "x = np.arange(1, count, 1)\n",
    "y = fact\n",
    "\n",
    "fig, ax = plt.subplots()\n",
    "\n",
    "ax.plot(x, y, '-', color=\"purple\")\n",
    "\n",
    "ax.set_xlabel('iterations')\n",
    "ax.set_ylabel('number of pdfs evadable')\n",
    "ax.set_yscale(\"log\")\n",
    "\n",
    "plt.show()"
   ]
  },
  {
   "cell_type": "code",
   "execution_count": 12,
   "id": "234b19b1-657c-4d0b-a3ab-265527152832",
   "metadata": {},
   "outputs": [
    {
     "name": "stdout",
     "output_type": "stream",
     "text": [
      "Number of pdfs at the beginning: 16167\n",
      "Number of pdfs after improving: 127133\n",
      "Increasing factor of: 7.86\n",
      "\n",
      "\n",
      "Number of malicious pdfs at the beginning: 8880\n",
      "Number of malicious pdfs after improving: 119846\n",
      "Increasing factor of: 13.50\n",
      "\n",
      "\n"
     ]
    }
   ],
   "source": [
    "Xy_train_improved = np.hstack((X_train_improved, y_train_improved.reshape(-1,1)))\n",
    "df_improved = pd.DataFrame(Xy_train_improved, columns=df_tot.columns)\n",
    "\n",
    "X_mal_improved = np.copy(X_train_improved[y_train_improved==1])\n",
    "\n",
    "Num_of_pdf_start = X_train.shape[0]\n",
    "Num_of_pdf_improved = X_train_improved.shape[0]\n",
    "print(\"Number of pdfs at the beginning:\", Num_of_pdf_start)\n",
    "print(\"Number of pdfs after improving:\", Num_of_pdf_improved)\n",
    "print(\"Increasing factor of: %.2f\" % (Num_of_pdf_improved/Num_of_pdf_start))\n",
    "print(\"\\n\")\n",
    "\n",
    "Num_mal = X_mal.shape[0]\n",
    "Num_mal_improved = X_mal_improved.shape[0]\n",
    "print(\"Number of malicious pdfs at the beginning:\", Num_mal)\n",
    "print(\"Number of malicious pdfs after improving:\", Num_mal_improved)\n",
    "print(\"Increasing factor of: %.2f\" % (Num_mal_improved/Num_mal))\n",
    "print(\"\\n\")"
   ]
  },
  {
   "cell_type": "code",
   "execution_count": 15,
   "id": "817ef34e-cf0f-47cc-846e-835dbf2c2066",
   "metadata": {},
   "outputs": [],
   "source": [
    "df_improved.to_csv('df_improved.csv', index=False)"
   ]
  },
  {
   "cell_type": "code",
   "execution_count": null,
   "id": "23146e9d-230b-4ee8-a6f6-77085b0860b6",
   "metadata": {},
   "outputs": [],
   "source": []
  }
 ],
 "metadata": {
  "kernelspec": {
   "display_name": "Python 3 (ipykernel)",
   "language": "python",
   "name": "python3"
  },
  "language_info": {
   "codemirror_mode": {
    "name": "ipython",
    "version": 3
   },
   "file_extension": ".py",
   "mimetype": "text/x-python",
   "name": "python",
   "nbconvert_exporter": "python",
   "pygments_lexer": "ipython3",
   "version": "3.8.13"
  }
 },
 "nbformat": 4,
 "nbformat_minor": 5
}
