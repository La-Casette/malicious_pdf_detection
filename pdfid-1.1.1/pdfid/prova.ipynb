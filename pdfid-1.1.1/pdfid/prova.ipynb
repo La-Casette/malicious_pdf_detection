{
 "cells": [
  {
   "cell_type": "code",
   "execution_count": 40,
   "id": "6788ad5c-f4fb-4787-b216-981d0ec34e78",
   "metadata": {},
   "outputs": [
    {
     "data": {
      "text/plain": [
       "5249"
      ]
     },
     "execution_count": 40,
     "metadata": {},
     "output_type": "execute_result"
    }
   ],
   "source": [
    "import pandas as pd\n",
    "\n",
    "df = pd.read_csv(\"result_clean_pdf_100_embed_video.csv\")\n",
    "df.head()\n",
    "df[\"stream\"].sum()"
   ]
  },
  {
   "cell_type": "code",
   "execution_count": null,
   "id": "410b48f7-8edf-43c9-a8c5-d574b6a28f9e",
   "metadata": {},
   "outputs": [],
   "source": []
  }
 ],
 "metadata": {
  "kernelspec": {
   "display_name": "Python 3 (ipykernel)",
   "language": "python",
   "name": "python3"
  },
  "language_info": {
   "codemirror_mode": {
    "name": "ipython",
    "version": 3
   },
   "file_extension": ".py",
   "mimetype": "text/x-python",
   "name": "python",
   "nbconvert_exporter": "python",
   "pygments_lexer": "ipython3",
   "version": "3.8.13"
  }
 },
 "nbformat": 4,
 "nbformat_minor": 5
}
