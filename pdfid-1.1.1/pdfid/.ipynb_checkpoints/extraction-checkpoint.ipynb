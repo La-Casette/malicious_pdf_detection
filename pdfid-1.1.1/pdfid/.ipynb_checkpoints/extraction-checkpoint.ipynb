{
 "cells": [
  {
   "cell_type": "code",
   "execution_count": 1,
   "id": "afbff0e7-6a27-432d-a464-450903b1ee73",
   "metadata": {},
   "outputs": [
    {
     "name": "stdout",
     "output_type": "stream",
     "text": [
      "Analysis is started...\n",
      "...analysis is finished\n"
     ]
    }
   ],
   "source": [
    "from pdfid import *\n",
    "import json\n",
    "import os\n",
    "import pandas as pd\n",
    "import numpy as np\n",
    "\n",
    "def pdf_analysis(filename):\n",
    "    xml = PDFiD(filename)\n",
    "    doc = PDFiD2JSON(xml, False)\n",
    "\n",
    "    y = json.loads(doc)\n",
    "    js = json.loads(json.dumps(y[0]))\n",
    "\n",
    "    l = []\n",
    "    for w in js[\"pdfid\"][\"keywords\"][\"keyword\"]:\n",
    "        l.append(w[\"count\"])\n",
    "        \n",
    "    return l\n",
    "\n",
    "def dir_analysis(dirname):\n",
    "    mat = []\n",
    "    i = 0\n",
    "\n",
    "    for filename in os.listdir(dirname):\n",
    "        f = os.path.join(dirname, filename)\n",
    "        if os.path.isfile(f):\n",
    "            l = pdf_analysis(f)\n",
    "            mat.append(l)\n",
    "            print(\"...\" + str(i))\n",
    "            i += 1\n",
    "    res = np.array(mat)\n",
    "\n",
    "    return res\n",
    "\n",
    "if __name__ == '__main__':\n",
    "    \n",
    "    print(\"Analysis is started...\")\n",
    "    directories = [\"../../pdf_data/clean_pdf_100_embed_video/\", \"../../pdf_data/malware_pdf_cve_sorted_173_files/\", \"../../pdf_data/clean_pdf_9000_files/\", \"../../pdf_data/malware_pdf_pre_04-2011_10982_files/\"]\n",
    "    \n",
    "    for dire in directories:\n",
    "        file_name = \"result_\" + os.path.basename(dire[:len(dire)-1]) + \".csv\"\n",
    "        data = dir_analysis(dire)\n",
    "        #print(\"Produced \" + data)\n",
    "        df = pd.DataFrame(data=data, columns=[\"obj\", \"endobj\", \"stream\", \"endstream\", \"xref\", \"trailer\", \"startxref\", \"/Page\", \"/Encrypt\", \"/ObjStm\", \"/JS\", \"/JavaScript\", \"/AA\", \"/OpenAction\", \"/AcroForm\", \"/JBIG2Decode\", \"/RichMedia\", \"/Launch\", \"/EmbeddedFile\", \"/XFA\", \"/Colors > 2^24\"])\n",
    "        df.to_csv(file_name)\n",
    "        \n",
    "    print(\"...analysis is finished\")"
   ]
  },
  {
   "cell_type": "code",
   "execution_count": null,
   "id": "e9901ce6-433c-4766-b031-a1d8b3d976ae",
   "metadata": {},
   "outputs": [],
   "source": []
  }
 ],
 "metadata": {
  "kernelspec": {
   "display_name": "Python 3 (ipykernel)",
   "language": "python",
   "name": "python3"
  },
  "language_info": {
   "codemirror_mode": {
    "name": "ipython",
    "version": 3
   },
   "file_extension": ".py",
   "mimetype": "text/x-python",
   "name": "python",
   "nbconvert_exporter": "python",
   "pygments_lexer": "ipython3",
   "version": "3.8.13"
  }
 },
 "nbformat": 4,
 "nbformat_minor": 5
}
